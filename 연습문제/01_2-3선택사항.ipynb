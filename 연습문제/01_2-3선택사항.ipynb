{
 "cells": [
  {
   "cell_type": "code",
   "execution_count": 1,
   "id": "aace08c5",
   "metadata": {},
   "outputs": [],
   "source": [
    "# reqeusts, bs4 import\n",
    "import requests  # requests 라이브러리 import\n",
    "import bs4  # BeautifulSoup 라이브러리 import\n",
    "\n",
    "# BeautifulSoup 클래스 import\n",
    "from bs4 import BeautifulSoup  # BeautifulSoup 클래스 import\n",
    "from IPython.display import Image,display\n",
    "\n",
    "from urllib.parse import urljoin\n",
    "import os\n",
    "\n",
    "\n"
   ]
  },
  {
   "cell_type": "code",
   "execution_count": null,
   "id": "aa8719d5",
   "metadata": {},
   "outputs": [],
   "source": [
    "# 2-2 내용 복사\n",
    "def download_one_episode(title,no,arg_url):\n",
    "    req_header = {\n",
    "        'User-Agent': 'Mozilla/5.0 (Windows NT 10.0; Win64; x64) AppleWebKit/537.36 (KHTML, like Gecko) Chrome/58.0.3029.110 Safari/537.3',\n",
    "        'referer': url,   \n",
    "    }\n",
    "    img_url_list = list()\n",
    "    \n",
    "    webtoon_origin_link = (f\"{arg_url}&no={str(no)}\")\n",
    "    \n",
    "    webtoon_image_path = f\"{title + str(no)}\"\n",
    "    if not os.path.isdir(webtoon_image_path):\n",
    "        os.mkdir(webtoon_image_path)\n",
    "\n",
    "    res = requests.get(url=webtoon_origin_link,headers=req_header)\n",
    "    \n",
    "    if res.ok:\n",
    "        soup = BeautifulSoup(res.text,'html.parser')\n",
    "        \n",
    "        img_tags = soup.select(\"div.wt_viewer img[src^='https://image-comic'] \")\n",
    "\n",
    "        for img_t in img_tags:\n",
    "            img_url = img_t['src']\n",
    "            img_url_list.append(img_url)\n",
    "\n",
    "        for img_u in img_url_list:\n",
    "            pass\n",
    "\n",
    "    for jpg_url in img_url_list:\n",
    "        res = requests.get(jpg_url,headers = req_header)\n",
    "        \n",
    "        if res.ok:\n",
    "            #bin_data\n",
    "            img_data = res.content\n",
    "            dir_name = os.path.join(webtoon_image_path,os.path.basename(jpg_url))\n",
    "            print(dir_name)\n",
    "            file_name = os.path.basename(jpg_url)\n",
    "            with open(dir_name,'wb') as file:\n",
    "\n",
    "                \n",
    "                if file.write(img_data):\n",
    "                    print(f\"Saved {file_name} successfully. ({(len(img_data)):,}) bytes\")                \n",
    "\n",
    "                 \n",
    "\n",
    "\n",
    "    "
   ]
  }
 ],
 "metadata": {
  "kernelspec": {
   "display_name": "base",
   "language": "python",
   "name": "python3"
  },
  "language_info": {
   "codemirror_mode": {
    "name": "ipython",
    "version": 3
   },
   "file_extension": ".py",
   "mimetype": "text/x-python",
   "name": "python",
   "nbconvert_exporter": "python",
   "pygments_lexer": "ipython3",
   "version": "3.13.5"
  }
 },
 "nbformat": 4,
 "nbformat_minor": 5
}
