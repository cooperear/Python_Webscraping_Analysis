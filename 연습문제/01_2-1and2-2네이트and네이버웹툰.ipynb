{
 "cells": [
  {
   "cell_type": "code",
   "execution_count": 1,
   "id": "6414ee5b",
   "metadata": {},
   "outputs": [
    {
     "data": {
      "text/plain": [
       "'\\n SSS  K   K        SSS  H   H IIIII EEEEE L     DDDD  EEEEE RRRR   SSS        4   4 TTTTT H   H       RRRR   OOO   OOO  K   K IIIII EEEEE  SSS  \\nS     K  K        S     H   H   I   E     L     D   D E     R   R S           4   4   T   H   H       R   R O   O O   O K  K    I   E     S     \\n SSS  KKK          SSS  HHHHH   I   EEEEE L     D   D EEEEE RRRR   SSS        44444   T   HHHHH       RRRR  O   O O   O KKK     I   EEEEE  SSS  \\n    S K  K            S H   H   I   E     L     D   D E     R  R      S           4   T   H   H       R  R  O   O O   O K  K    I   E         S \\nSSSS  K   K       SSSS  H   H IIIII EEEEE LLLLL DDDD  EEEEE R   R SSSS            4   T   H   H       R   R  OOO   OOO  K   K IIIII EEEEE SSSS  \\n\\n박시훈\\n01_2-1and2-2네이트and네이버웹툰.ipynb\\n2025-07-24\\n'"
      ]
     },
     "execution_count": 1,
     "metadata": {},
     "output_type": "execute_result"
    }
   ],
   "source": [
    "\n",
    "\"\"\"\n",
    " SSS  K   K        SSS  H   H IIIII EEEEE L     DDDD  EEEEE RRRR   SSS        4   4 TTTTT H   H       RRRR   OOO   OOO  K   K IIIII EEEEE  SSS  \n",
    "S     K  K        S     H   H   I   E     L     D   D E     R   R S           4   4   T   H   H       R   R O   O O   O K  K    I   E     S     \n",
    " SSS  KKK          SSS  HHHHH   I   EEEEE L     D   D EEEEE RRRR   SSS        44444   T   HHHHH       RRRR  O   O O   O KKK     I   EEEEE  SSS  \n",
    "    S K  K            S H   H   I   E     L     D   D E     R  R      S           4   T   H   H       R  R  O   O O   O K  K    I   E         S \n",
    "SSSS  K   K       SSSS  H   H IIIII EEEEE LLLLL DDDD  EEEEE R   R SSSS            4   T   H   H       R   R  OOO   OOO  K   K IIIII EEEEE SSSS  \n",
    "\n",
    "박시훈\n",
    "01_2-1and2-2네이트and네이버웹툰.ipynb\n",
    "2025-07-24\n",
    "\"\"\"\n"
   ]
  },
  {
   "cell_type": "markdown",
   "id": "ccc113a1",
   "metadata": {},
   "source": [
    "# 2. 웹스크래핑 연습문제\n"
   ]
  },
  {
   "cell_type": "markdown",
   "id": "97c306d0",
   "metadata": {},
   "source": [
    "## 2-1. Nate 뉴스기사 제목 스크래핑하기 (필수)\n"
   ]
  },
  {
   "cell_type": "code",
   "execution_count": 5,
   "id": "49b29ba4",
   "metadata": {},
   "outputs": [],
   "source": [
    "# reqeusts, bs4 import\n",
    "import requests  # requests 라이브러리 import\n",
    "import bs4  # BeautifulSoup 라이브러리 import\n",
    "\n",
    "# BeautifulSoup 클래스 import\n",
    "from bs4 import BeautifulSoup  # BeautifulSoup 클래스 import\n",
    "from IPython.display import Image,display\n",
    "\n",
    "from urllib.parse import urljoin\n"
   ]
  },
  {
   "cell_type": "code",
   "execution_count": 6,
   "id": "d2feb9ae",
   "metadata": {},
   "outputs": [],
   "source": [
    "section_dict = {'최신뉴스':'n0100','정치':'n0200','경제':'n0300','사회':'n0400','세계':'n0500','it/과학':'n0600'}\n",
    "\n",
    "def print_news_with_images(section_name):\n",
    "    \n",
    "    req_param = {\n",
    "        'sid': section_dict[section_name]\n",
    "    }\n",
    "    url =\"https://news.nate.com/recent?mid={sid}\".format(**req_param)\n",
    "    title_text = []\n",
    "    print(f\" ======>{url} {section_name} 뉴스 <======\")\n",
    "    req_header = {\n",
    "        'User-Agent': 'Mozilla/5.0 (Windows NT 10.0; Win64; x64) AppleWebKit/537.36 (KHTML, like Gecko) Chrome/58.0.3029.110 Safari/537.3'\n",
    "    }\n",
    "    res = requests.get(url = url,headers = req_header)\n",
    "    #print(type(res))\n",
    "    \n",
    "    if res.ok:\n",
    "        print(res.status_code) \n",
    "        res.encoding = res.apparent_encoding\n",
    "        html = res.content\n",
    "        soup = BeautifulSoup(html,'html.parser')\n",
    "        tags = soup.select(\"div [class*=mduSubjectList] div[class ^=mlt]\")\n",
    "        #newsContents > div.postListType.noListTitle > div.postSubjectContent > div:nth-child(1)\n",
    "        \n",
    "        \n",
    "        \n",
    "        for i, t in enumerate(tags,1):\n",
    "        \n",
    "            link = urljoin('https:',t.find('a' , class_='lt1')['href'] ) \n",
    "            img = soup.find('img')\n",
    "            \n",
    "            \n",
    "            title = t.find('h2', class_= 'tit').get_text()\n",
    "            \n",
    "            print(title)\n",
    "            print(f'{str(link)}',end = '\\n')\n",
    "            \n",
    "            try:\n",
    "                src_link = t.find('img')['src'] if img else \"No IMG\"\n",
    "                if src_link:\n",
    "                    src = urljoin('https:',src_link)\n",
    "                    dis_img = Image(url = src)\n",
    "                    display(dis_img)\n",
    "            except TypeError as TE:\n",
    "                print(\"no image\")\n",
    "            \n",
    "\n",
    "            \n"
   ]
  },
  {
   "cell_type": "code",
   "execution_count": 7,
   "id": "2b6022eb",
   "metadata": {},
   "outputs": [
    {
     "name": "stdout",
     "output_type": "stream",
     "text": [
      " ======>https://news.nate.com/recent?mid=n0300 경제 뉴스 <======\n",
      "200\n",
      "[1보] 뉴욕증시, 무역협상 낙관에 강세 마감…S&P500 최고치 경신\n",
      "https://news.nate.com/view/20250724n01632?mid=n0300\n"
     ]
    },
    {
     "data": {
      "text/html": [
       "<img src=\"https://thumbnews.nateimg.co.kr/news90///news.nateimg.co.kr/orgImg/yt/2025/07/24/AKR20250724006700072_01_i.jpg\"/>"
      ],
      "text/plain": [
       "<IPython.core.display.Image object>"
      ]
     },
     "metadata": {},
     "output_type": "display_data"
    },
    {
     "name": "stdout",
     "output_type": "stream",
     "text": [
      "■ 7월 24일(목) 경제 캘린더\n",
      "https://news.nate.com/view/20250724n01629?mid=n0300\n"
     ]
    },
    {
     "data": {
      "text/html": [
       "<img src=\"https://thumbnews.nateimg.co.kr/news90///news.nateimg.co.kr/orgImg/yn/2025/07/24/202507240508083613_t.jpg\"/>"
      ],
      "text/plain": [
       "<IPython.core.display.Image object>"
      ]
     },
     "metadata": {},
     "output_type": "display_data"
    },
    {
     "name": "stdout",
     "output_type": "stream",
     "text": [
      "알파벳 2분기 '어닝 서프라이즈'…매출·순이익 모두 시장 전망 상회\n",
      "https://news.nate.com/view/20250724n01607?mid=n0300\n"
     ]
    },
    {
     "data": {
      "text/html": [
       "<img src=\"https://thumbnews.nateimg.co.kr/news90///news.nateimg.co.kr/orgImg/ed/2025/07/24/PS25072400048.jpg\"/>"
      ],
      "text/plain": [
       "<IPython.core.display.Image object>"
      ]
     },
     "metadata": {},
     "output_type": "display_data"
    },
    {
     "name": "stdout",
     "output_type": "stream",
     "text": [
      "[속보]잇단 무역합의 기대감↑…다우 1.1%↑·S&P500 최고치\n",
      "https://news.nate.com/view/20250724n01568?mid=n0300\n"
     ]
    },
    {
     "data": {
      "text/html": [
       "<img src=\"https://thumbnews.nateimg.co.kr/news90///news.nateimg.co.kr/orgImg/ed/2025/07/24/PS25072400047.jpg\"/>"
      ],
      "text/plain": [
       "<IPython.core.display.Image object>"
      ]
     },
     "metadata": {},
     "output_type": "display_data"
    },
    {
     "name": "stdout",
     "output_type": "stream",
     "text": [
      "[속보] 알파벳, 2분기 매출액·순이익 모두 월가 기대치 상회\n",
      "https://news.nate.com/view/20250724n01563?mid=n0300\n"
     ]
    },
    {
     "data": {
      "text/html": [
       "<img src=\"https://thumbnews.nateimg.co.kr/news90///news.nateimg.co.kr/orgImg/ni/2025/07/24/2507240506164221.jpg\"/>"
      ],
      "text/plain": [
       "<IPython.core.display.Image object>"
      ]
     },
     "metadata": {},
     "output_type": "display_data"
    },
    {
     "name": "stdout",
     "output_type": "stream",
     "text": [
      "\"견디기 어려운 내수 부진\"⋯식품업계 2분기 실적도 '빨간불'\n",
      "https://news.nate.com/view/20250724n01562?mid=n0300\n"
     ]
    },
    {
     "data": {
      "text/html": [
       "<img src=\"https://thumbnews.nateimg.co.kr/news90///news.nateimg.co.kr/orgImg/in/2025/07/24/79a2119517230c.jpg\"/>"
      ],
      "text/plain": [
       "<IPython.core.display.Image object>"
      ]
     },
     "metadata": {},
     "output_type": "display_data"
    },
    {
     "name": "stdout",
     "output_type": "stream",
     "text": [
      "법인세 인상 움직임에…\"기업 해외로 나갈 것\" 비판 확산\n",
      "https://news.nate.com/view/20250724n01561?mid=n0300\n"
     ]
    },
    {
     "data": {
      "text/html": [
       "<img src=\"https://thumbnews.nateimg.co.kr/news90///news.nateimg.co.kr/orgImg/ed/2025/07/24/PS25072400046.jpg\"/>"
      ],
      "text/plain": [
       "<IPython.core.display.Image object>"
      ]
     },
     "metadata": {},
     "output_type": "display_data"
    },
    {
     "name": "stdout",
     "output_type": "stream",
     "text": [
      "'7주년' 해진공, 해양산업의 든든한 조력자\n",
      "https://news.nate.com/view/20250724n01559?mid=n0300\n"
     ]
    },
    {
     "data": {
      "text/html": [
       "<img src=\"https://thumbnews.nateimg.co.kr/news90///news.nateimg.co.kr/orgImg/no/2025/07/24/SSC_20250723235307_V.png\"/>"
      ],
      "text/plain": [
       "<IPython.core.display.Image object>"
      ]
     },
     "metadata": {},
     "output_type": "display_data"
    },
    {
     "name": "stdout",
     "output_type": "stream",
     "text": [
      "서울교통公, '지역 상생 발전' 위해 나눔 실천\n",
      "https://news.nate.com/view/20250724n01558?mid=n0300\n"
     ]
    },
    {
     "data": {
      "text/html": [
       "<img src=\"https://thumbnews.nateimg.co.kr/news90///news.nateimg.co.kr/orgImg/no/2025/07/24/SSC_20250723235315_V.jpg\"/>"
      ],
      "text/plain": [
       "<IPython.core.display.Image object>"
      ]
     },
     "metadata": {},
     "output_type": "display_data"
    },
    {
     "name": "stdout",
     "output_type": "stream",
     "text": [
      "TS, 연내 '자율주행차 안전 검사 시스템' 구축\n",
      "https://news.nate.com/view/20250724n01557?mid=n0300\n"
     ]
    },
    {
     "data": {
      "text/html": [
       "<img src=\"https://thumbnews.nateimg.co.kr/news90///news.nateimg.co.kr/orgImg/no/2025/07/24/SSC_20250723235314_V.jpg\"/>"
      ],
      "text/plain": [
       "<IPython.core.display.Image object>"
      ]
     },
     "metadata": {},
     "output_type": "display_data"
    },
    {
     "name": "stdout",
     "output_type": "stream",
     "text": [
      "도공 '중소기업기술마켓' 누적 판매 1조 돌파\n",
      "https://news.nate.com/view/20250724n01556?mid=n0300\n"
     ]
    },
    {
     "data": {
      "text/html": [
       "<img src=\"https://thumbnews.nateimg.co.kr/news90///news.nateimg.co.kr/orgImg/no/2025/07/24/SSC_20250723235226_V.png\"/>"
      ],
      "text/plain": [
       "<IPython.core.display.Image object>"
      ]
     },
     "metadata": {},
     "output_type": "display_data"
    },
    {
     "name": "stdout",
     "output_type": "stream",
     "text": [
      "한전KDN, 중장기 전략 '비전 2035' 본격화\n",
      "https://news.nate.com/view/20250724n01555?mid=n0300\n"
     ]
    },
    {
     "data": {
      "text/html": [
       "<img src=\"https://thumbnews.nateimg.co.kr/news90///news.nateimg.co.kr/orgImg/no/2025/07/24/SSC_20250723235217_V.jpg\"/>"
      ],
      "text/plain": [
       "<IPython.core.display.Image object>"
      ]
     },
     "metadata": {},
     "output_type": "display_data"
    },
    {
     "name": "stdout",
     "output_type": "stream",
     "text": [
      "한수원, 체코서 '100년 동반자' 봉사활동\n",
      "https://news.nate.com/view/20250724n01554?mid=n0300\n"
     ]
    },
    {
     "data": {
      "text/html": [
       "<img src=\"https://thumbnews.nateimg.co.kr/news90///news.nateimg.co.kr/orgImg/no/2025/07/24/SSC_20250723235200_V.jpg\"/>"
      ],
      "text/plain": [
       "<IPython.core.display.Image object>"
      ]
     },
     "metadata": {},
     "output_type": "display_data"
    },
    {
     "name": "stdout",
     "output_type": "stream",
     "text": [
      "환경공단 '층간소음 측정 온라인 예약' 확대\n",
      "https://news.nate.com/view/20250724n01553?mid=n0300\n"
     ]
    },
    {
     "data": {
      "text/html": [
       "<img src=\"https://thumbnews.nateimg.co.kr/news90///news.nateimg.co.kr/orgImg/no/2025/07/24/SSC_20250723235211_V.png\"/>"
      ],
      "text/plain": [
       "<IPython.core.display.Image object>"
      ]
     },
     "metadata": {},
     "output_type": "display_data"
    },
    {
     "name": "stdout",
     "output_type": "stream",
     "text": [
      "정부 경영평가서 두 단계 상승한 가스공사\n",
      "https://news.nate.com/view/20250724n01552?mid=n0300\n"
     ]
    },
    {
     "data": {
      "text/html": [
       "<img src=\"https://thumbnews.nateimg.co.kr/news90///news.nateimg.co.kr/orgImg/no/2025/07/24/SSC_20250723235201_V.jpg\"/>"
      ],
      "text/plain": [
       "<IPython.core.display.Image object>"
      ]
     },
     "metadata": {},
     "output_type": "display_data"
    },
    {
     "name": "stdout",
     "output_type": "stream",
     "text": [
      "'남동 에너지 신작로 2040' 실현에 속도\n",
      "https://news.nate.com/view/20250724n01551?mid=n0300\n"
     ]
    },
    {
     "data": {
      "text/html": [
       "<img src=\"https://thumbnews.nateimg.co.kr/news90///news.nateimg.co.kr/orgImg/no/2025/07/24/SSC_20250723235154_V.jpg\"/>"
      ],
      "text/plain": [
       "<IPython.core.display.Image object>"
      ]
     },
     "metadata": {},
     "output_type": "display_data"
    },
    {
     "name": "stdout",
     "output_type": "stream",
     "text": [
      "한전, 호남·강원 전력망 구축 현장 살펴\n",
      "https://news.nate.com/view/20250724n01550?mid=n0300\n"
     ]
    },
    {
     "data": {
      "text/html": [
       "<img src=\"https://thumbnews.nateimg.co.kr/news90///news.nateimg.co.kr/orgImg/no/2025/07/24/SSC_20250723235148_V.jpg\"/>"
      ],
      "text/plain": [
       "<IPython.core.display.Image object>"
      ]
     },
     "metadata": {},
     "output_type": "display_data"
    },
    {
     "name": "stdout",
     "output_type": "stream",
     "text": [
      "서부발전, '국가기록관리 유공' 표창 수상\n",
      "https://news.nate.com/view/20250724n01549?mid=n0300\n"
     ]
    },
    {
     "data": {
      "text/html": [
       "<img src=\"https://thumbnews.nateimg.co.kr/news90///news.nateimg.co.kr/orgImg/no/2025/07/24/SSC_20250723235151_V.jpg\"/>"
      ],
      "text/plain": [
       "<IPython.core.display.Image object>"
      ]
     },
     "metadata": {},
     "output_type": "display_data"
    },
    {
     "name": "stdout",
     "output_type": "stream",
     "text": [
      "동서발전, 공공기관 경영평가 'A등급'\n",
      "https://news.nate.com/view/20250724n01548?mid=n0300\n"
     ]
    },
    {
     "data": {
      "text/html": [
       "<img src=\"https://thumbnews.nateimg.co.kr/news90///news.nateimg.co.kr/orgImg/no/2025/07/24/SSC_20250723235149_V.jpg\"/>"
      ],
      "text/plain": [
       "<IPython.core.display.Image object>"
      ]
     },
     "metadata": {},
     "output_type": "display_data"
    },
    {
     "name": "stdout",
     "output_type": "stream",
     "text": [
      "수출입銀, '정책금융 지원제도 설명회' 개최\n",
      "https://news.nate.com/view/20250724n01547?mid=n0300\n"
     ]
    },
    {
     "data": {
      "text/html": [
       "<img src=\"https://thumbnews.nateimg.co.kr/news90///news.nateimg.co.kr/orgImg/no/2025/07/24/SSC_20250723235140_V.jpg\"/>"
      ],
      "text/plain": [
       "<IPython.core.display.Image object>"
      ]
     },
     "metadata": {},
     "output_type": "display_data"
    }
   ],
   "source": [
    "a = input(\" 주제를 입력하세오 :\")\n",
    "\n",
    "if section_dict[a]:\n",
    "        print_news_with_images(a)\n",
    "        \n"
   ]
  },
  {
   "cell_type": "markdown",
   "id": "9ecc04d6",
   "metadata": {},
   "source": [
    "## 2-2. 하나의 네이버 웹툰과 1개의 회차에 대한 Image 다운로드 하기 (필수)\n"
   ]
  },
  {
   "cell_type": "code",
   "execution_count": 8,
   "id": "5cae1e24",
   "metadata": {},
   "outputs": [],
   "source": [
    "# reqeusts, bs4 import\n",
    "import requests  # requests 라이브러리 import\n",
    "import bs4  # BeautifulSoup 라이브러리 import\n",
    "\n",
    "# BeautifulSoup 클래스 import\n",
    "from bs4 import BeautifulSoup  # BeautifulSoup 클래스 import\n",
    "from IPython.display import Image,display\n",
    "\n",
    "from urllib.parse import urljoin\n",
    "import os\n",
    "\n",
    "\n"
   ]
  },
  {
   "cell_type": "code",
   "execution_count": null,
   "id": "fa47730f",
   "metadata": {},
   "outputs": [],
   "source": [
    "def download_one_episode(title,no,arg_url):\n",
    "    req_header = {\n",
    "        'User-Agent': 'Mozilla/5.0 (Windows NT 10.0; Win64; x64) AppleWebKit/537.36 (KHTML, like Gecko) Chrome/58.0.3029.110 Safari/537.3',\n",
    "        #'referer': url,   \n",
    "    }\n",
    "    img_url_list = list()\n",
    "    \n",
    "    webtoon_origin_link = (f\"{arg_url}&no={str(no)}\")\n",
    "    \n",
    "    webtoon_image_path = f\"{title + str(no)}\"\n",
    "    if not os.path.isdir(webtoon_image_path):\n",
    "        os.mkdir(webtoon_image_path)\n",
    "\n",
    "    res = requests.get(url=webtoon_origin_link,headers=req_header)\n",
    "    \n",
    "    if res.ok:\n",
    "        soup = BeautifulSoup(res.text,'html.parser')\n",
    "        \n",
    "        img_tags = soup.select(\"div.wt_viewer img[src^='https://image-comic'] \")\n",
    "\n",
    "        for img_t in img_tags:\n",
    "            img_url = img_t['src']\n",
    "            img_url_list.append(img_url)\n",
    "\n",
    "        for img_u in img_url_list:\n",
    "            pass\n",
    "\n",
    "    for jpg_url in img_url_list:\n",
    "        res = requests.get(jpg_url,headers = req_header)\n",
    "        \n",
    "        if res.ok:\n",
    "            #bin_data\n",
    "            img_data = res.content\n",
    "            dir_name = os.path.join(webtoon_image_path,os.path.basename(jpg_url))\n",
    "            print(dir_name)\n",
    "            file_name = os.path.basename(jpg_url)\n",
    "            with open(dir_name,'wb') as file:\n",
    "\n",
    "                \n",
    "                if file.write(img_data):\n",
    "                    print(f\"Saved {file_name} successfully. ({(len(img_data)):,}) bytes\")                \n",
    "\n",
    "                    \n",
    "\n",
    "\n",
    "    "
   ]
  },
  {
   "cell_type": "code",
   "execution_count": 10,
   "id": "d45d5379",
   "metadata": {},
   "outputs": [
    {
     "name": "stdout",
     "output_type": "stream",
     "text": [
      "육아일기152\\img-ctguide-white_new.png\n",
      "Saved img-ctguide-white_new.png successfully. (10,207) bytes\n",
      "육아일기152\\20250611094350_b6cd0de8a72c700e532486d783928c87_IMAG01_1.jpg\n",
      "Saved 20250611094350_b6cd0de8a72c700e532486d783928c87_IMAG01_1.jpg successfully. (97,439) bytes\n",
      "육아일기152\\20250611094350_b6cd0de8a72c700e532486d783928c87_IMAG01_2.jpg\n",
      "Saved 20250611094350_b6cd0de8a72c700e532486d783928c87_IMAG01_2.jpg successfully. (95,702) bytes\n",
      "육아일기152\\20250611094350_b6cd0de8a72c700e532486d783928c87_IMAG01_3.jpg\n",
      "Saved 20250611094350_b6cd0de8a72c700e532486d783928c87_IMAG01_3.jpg successfully. (108,050) bytes\n",
      "육아일기152\\20250611094350_b6cd0de8a72c700e532486d783928c87_IMAG01_4.jpg\n",
      "Saved 20250611094350_b6cd0de8a72c700e532486d783928c87_IMAG01_4.jpg successfully. (94,630) bytes\n",
      "육아일기152\\20250611094350_b6cd0de8a72c700e532486d783928c87_IMAG01_5.jpg\n",
      "Saved 20250611094350_b6cd0de8a72c700e532486d783928c87_IMAG01_5.jpg successfully. (98,526) bytes\n",
      "육아일기152\\20250611094350_b6cd0de8a72c700e532486d783928c87_IMAG01_6.jpg\n",
      "Saved 20250611094350_b6cd0de8a72c700e532486d783928c87_IMAG01_6.jpg successfully. (119,399) bytes\n",
      "육아일기152\\20250611094350_b6cd0de8a72c700e532486d783928c87_IMAG01_7.jpg\n",
      "Saved 20250611094350_b6cd0de8a72c700e532486d783928c87_IMAG01_7.jpg successfully. (118,819) bytes\n",
      "육아일기152\\20250611094350_b6cd0de8a72c700e532486d783928c87_IMAG01_8.jpg\n",
      "Saved 20250611094350_b6cd0de8a72c700e532486d783928c87_IMAG01_8.jpg successfully. (122,015) bytes\n",
      "육아일기152\\20250611094350_b6cd0de8a72c700e532486d783928c87_IMAG01_9.jpg\n",
      "Saved 20250611094350_b6cd0de8a72c700e532486d783928c87_IMAG01_9.jpg successfully. (139,170) bytes\n",
      "육아일기152\\20250611094350_b6cd0de8a72c700e532486d783928c87_IMAG01_10.jpg\n",
      "Saved 20250611094350_b6cd0de8a72c700e532486d783928c87_IMAG01_10.jpg successfully. (130,633) bytes\n",
      "육아일기152\\20250611094350_b6cd0de8a72c700e532486d783928c87_IMAG01_11.jpg\n",
      "Saved 20250611094350_b6cd0de8a72c700e532486d783928c87_IMAG01_11.jpg successfully. (118,470) bytes\n",
      "육아일기152\\20250611094350_b6cd0de8a72c700e532486d783928c87_IMAG01_12.jpg\n",
      "Saved 20250611094350_b6cd0de8a72c700e532486d783928c87_IMAG01_12.jpg successfully. (65,119) bytes\n",
      "육아일기152\\20250611094350_b6cd0de8a72c700e532486d783928c87_IMAG01_13.jpg\n",
      "Saved 20250611094350_b6cd0de8a72c700e532486d783928c87_IMAG01_13.jpg successfully. (12,205) bytes\n"
     ]
    }
   ],
   "source": [
    "webtoon_title = '육아일기'\n",
    "title_id=812354\n",
    "url = f'https://comic.naver.com/webtoon/detail?titleId={str(title_id)}&'\n",
    "no = 152\n",
    "\n",
    "download_one_episode(webtoon_title,no,url)\n"
   ]
  },
  {
   "cell_type": "code",
   "execution_count": 11,
   "id": "c4bcb080",
   "metadata": {},
   "outputs": [
    {
     "name": "stdout",
     "output_type": "stream",
     "text": [
      "칼부림468\\20250702143804_4a98a5630270c3008c8150ab5598aafd_IMAG01_1.jpg\n",
      "Saved 20250702143804_4a98a5630270c3008c8150ab5598aafd_IMAG01_1.jpg successfully. (88,484) bytes\n",
      "칼부림468\\20250702143804_4a98a5630270c3008c8150ab5598aafd_IMAG01_2.jpg\n",
      "Saved 20250702143804_4a98a5630270c3008c8150ab5598aafd_IMAG01_2.jpg successfully. (228,911) bytes\n",
      "칼부림468\\20250702143804_4a98a5630270c3008c8150ab5598aafd_IMAG01_3.jpg\n",
      "Saved 20250702143804_4a98a5630270c3008c8150ab5598aafd_IMAG01_3.jpg successfully. (183,682) bytes\n",
      "칼부림468\\20250702143804_4a98a5630270c3008c8150ab5598aafd_IMAG01_4.jpg\n",
      "Saved 20250702143804_4a98a5630270c3008c8150ab5598aafd_IMAG01_4.jpg successfully. (193,698) bytes\n",
      "칼부림468\\20250702143804_4a98a5630270c3008c8150ab5598aafd_IMAG01_5.jpg\n",
      "Saved 20250702143804_4a98a5630270c3008c8150ab5598aafd_IMAG01_5.jpg successfully. (179,014) bytes\n",
      "칼부림468\\20250702143804_4a98a5630270c3008c8150ab5598aafd_IMAG01_6.jpg\n",
      "Saved 20250702143804_4a98a5630270c3008c8150ab5598aafd_IMAG01_6.jpg successfully. (242,073) bytes\n",
      "칼부림468\\20250702143804_4a98a5630270c3008c8150ab5598aafd_IMAG01_7.jpg\n",
      "Saved 20250702143804_4a98a5630270c3008c8150ab5598aafd_IMAG01_7.jpg successfully. (192,660) bytes\n",
      "칼부림468\\20250702143804_4a98a5630270c3008c8150ab5598aafd_IMAG01_8.jpg\n",
      "Saved 20250702143804_4a98a5630270c3008c8150ab5598aafd_IMAG01_8.jpg successfully. (208,249) bytes\n",
      "칼부림468\\20250702143804_4a98a5630270c3008c8150ab5598aafd_IMAG01_9.jpg\n",
      "Saved 20250702143804_4a98a5630270c3008c8150ab5598aafd_IMAG01_9.jpg successfully. (174,066) bytes\n",
      "칼부림468\\20250702143804_4a98a5630270c3008c8150ab5598aafd_IMAG01_10.jpg\n",
      "Saved 20250702143804_4a98a5630270c3008c8150ab5598aafd_IMAG01_10.jpg successfully. (150,413) bytes\n",
      "칼부림468\\20250702143804_4a98a5630270c3008c8150ab5598aafd_IMAG01_11.jpg\n",
      "Saved 20250702143804_4a98a5630270c3008c8150ab5598aafd_IMAG01_11.jpg successfully. (122,886) bytes\n",
      "칼부림468\\20250702143804_4a98a5630270c3008c8150ab5598aafd_IMAG01_12.jpg\n",
      "Saved 20250702143804_4a98a5630270c3008c8150ab5598aafd_IMAG01_12.jpg successfully. (223,140) bytes\n",
      "칼부림468\\20250702143804_4a98a5630270c3008c8150ab5598aafd_IMAG01_13.jpg\n",
      "Saved 20250702143804_4a98a5630270c3008c8150ab5598aafd_IMAG01_13.jpg successfully. (223,445) bytes\n",
      "칼부림468\\20250702143804_4a98a5630270c3008c8150ab5598aafd_IMAG01_14.jpg\n",
      "Saved 20250702143804_4a98a5630270c3008c8150ab5598aafd_IMAG01_14.jpg successfully. (258,287) bytes\n",
      "칼부림468\\20250702143804_4a98a5630270c3008c8150ab5598aafd_IMAG01_15.jpg\n",
      "Saved 20250702143804_4a98a5630270c3008c8150ab5598aafd_IMAG01_15.jpg successfully. (198,596) bytes\n",
      "칼부림468\\20250702143804_4a98a5630270c3008c8150ab5598aafd_IMAG01_16.jpg\n",
      "Saved 20250702143804_4a98a5630270c3008c8150ab5598aafd_IMAG01_16.jpg successfully. (252,146) bytes\n",
      "칼부림468\\20250702143804_4a98a5630270c3008c8150ab5598aafd_IMAG01_17.jpg\n",
      "Saved 20250702143804_4a98a5630270c3008c8150ab5598aafd_IMAG01_17.jpg successfully. (178,097) bytes\n",
      "칼부림468\\20250702143804_4a98a5630270c3008c8150ab5598aafd_IMAG01_18.jpg\n",
      "Saved 20250702143804_4a98a5630270c3008c8150ab5598aafd_IMAG01_18.jpg successfully. (198,311) bytes\n",
      "칼부림468\\20250702143804_4a98a5630270c3008c8150ab5598aafd_IMAG01_19.jpg\n",
      "Saved 20250702143804_4a98a5630270c3008c8150ab5598aafd_IMAG01_19.jpg successfully. (161,516) bytes\n",
      "칼부림468\\20250702143804_4a98a5630270c3008c8150ab5598aafd_IMAG01_20.jpg\n",
      "Saved 20250702143804_4a98a5630270c3008c8150ab5598aafd_IMAG01_20.jpg successfully. (305,344) bytes\n",
      "칼부림468\\20250702143804_4a98a5630270c3008c8150ab5598aafd_IMAG01_21.jpg\n",
      "Saved 20250702143804_4a98a5630270c3008c8150ab5598aafd_IMAG01_21.jpg successfully. (219,451) bytes\n",
      "칼부림468\\20250702143804_4a98a5630270c3008c8150ab5598aafd_IMAG01_22.jpg\n",
      "Saved 20250702143804_4a98a5630270c3008c8150ab5598aafd_IMAG01_22.jpg successfully. (274,040) bytes\n",
      "칼부림468\\20250702143804_4a98a5630270c3008c8150ab5598aafd_IMAG01_23.jpg\n",
      "Saved 20250702143804_4a98a5630270c3008c8150ab5598aafd_IMAG01_23.jpg successfully. (187,138) bytes\n",
      "칼부림468\\20250702143804_4a98a5630270c3008c8150ab5598aafd_IMAG01_24.jpg\n",
      "Saved 20250702143804_4a98a5630270c3008c8150ab5598aafd_IMAG01_24.jpg successfully. (979) bytes\n"
     ]
    }
   ],
   "source": [
    "\n",
    "\n",
    "webtoon_title = '칼부림'\n",
    "title_id=602916\n",
    "url = f'https://comic.naver.com/webtoon/detail?titleId={str(title_id)}&'\n",
    "no = 468\n",
    "\n",
    "download_one_episode(webtoon_title,no,url)"
   ]
  }
 ],
 "metadata": {
  "kernelspec": {
   "display_name": "base",
   "language": "python",
   "name": "python3"
  },
  "language_info": {
   "codemirror_mode": {
    "name": "ipython",
    "version": 3
   },
   "file_extension": ".py",
   "mimetype": "text/x-python",
   "name": "python",
   "nbconvert_exporter": "python",
   "pygments_lexer": "ipython3",
   "version": "3.13.5"
  }
 },
 "nbformat": 4,
 "nbformat_minor": 5
}
