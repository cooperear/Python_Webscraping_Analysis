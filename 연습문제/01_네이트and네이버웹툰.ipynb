{
 "cells": [
  {
   "cell_type": "code",
   "execution_count": null,
   "id": "6414ee5b",
   "metadata": {},
   "outputs": [
    {
     "data": {
      "text/plain": [
       "'\\n SSS  K   K        SSS  H   H IIIII EEEEE L     DDDD  EEEEE RRRR   SSS        4   4 TTTTT H   H       RRRR   OOO   OOO  K   K IIIII EEEEE  SSS  \\nS     K  K        S     H   H   I   E     L     D   D E     R   R S           4   4   T   H   H       R   R O   O O   O K  K    I   E     S     \\n SSS  KKK          SSS  HHHHH   I   EEEEE L     D   D EEEEE RRRR   SSS        44444   T   HHHHH       RRRR  O   O O   O KKK     I   EEEEE  SSS  \\n    S K  K            S H   H   I   E     L     D   D E     R  R      S           4   T   H   H       R  R  O   O O   O K  K    I   E         S \\nSSSS  K   K       SSSS  H   H IIIII EEEEE LLLLL DDDD  EEEEE R   R SSSS            4   T   H   H       R   R  OOO   OOO  K   K IIIII EEEEE SSSS  \\n\\n박시훈 2025-07-24 네이트 and 네이버 웹툰\\n'"
      ]
     },
     "execution_count": 5,
     "metadata": {},
     "output_type": "execute_result"
    }
   ],
   "source": [
    "\n",
    "\"\"\"\n",
    " SSS  K   K        SSS  H   H IIIII EEEEE L     DDDD  EEEEE RRRR   SSS        4   4 TTTTT H   H       RRRR   OOO   OOO  K   K IIIII EEEEE  SSS  \n",
    "S     K  K        S     H   H   I   E     L     D   D E     R   R S           4   4   T   H   H       R   R O   O O   O K  K    I   E     S     \n",
    " SSS  KKK          SSS  HHHHH   I   EEEEE L     D   D EEEEE RRRR   SSS        44444   T   HHHHH       RRRR  O   O O   O KKK     I   EEEEE  SSS  \n",
    "    S K  K            S H   H   I   E     L     D   D E     R  R      S           4   T   H   H       R  R  O   O O   O K  K    I   E         S \n",
    "SSSS  K   K       SSSS  H   H IIIII EEEEE LLLLL DDDD  EEEEE R   R SSSS            4   T   H   H       R   R  OOO   OOO  K   K IIIII EEEEE SSSS  \n",
    "\n",
    "박시훈 2025-07-24 네이트 and 네이버 웹툰\n",
    "\"\"\"\n"
   ]
  },
  {
   "cell_type": "markdown",
   "id": "2d4470c2",
   "metadata": {},
   "source": [
    "\n",
    "\n",
    "\n"
   ]
  },
  {
   "cell_type": "code",
   "execution_count": null,
   "id": "ad4d8f6c",
   "metadata": {},
   "outputs": [],
   "source": []
  },
  {
   "cell_type": "code",
   "execution_count": null,
   "id": "46614ec9",
   "metadata": {},
   "outputs": [],
   "source": []
  },
  {
   "cell_type": "markdown",
   "id": "ccc113a1",
   "metadata": {},
   "source": [
    "# 2. 웹스크래핑 연습문제\n"
   ]
  },
  {
   "cell_type": "markdown",
   "id": "97c306d0",
   "metadata": {},
   "source": [
    "## 2-1. Nate 뉴스기사 제목 스크래핑하기 (필수)\n"
   ]
  },
  {
   "cell_type": "code",
   "execution_count": 2,
   "id": "49b29ba4",
   "metadata": {},
   "outputs": [],
   "source": [
    "# reqeusts, bs4 import\n",
    "import requests  # requests 라이브러리 import\n",
    "import bs4  # BeautifulSoup 라이브러리 import\n",
    "\n",
    "# BeautifulSoup 클래스 import\n",
    "from bs4 import BeautifulSoup  # BeautifulSoup 클래스 import\n",
    "from IPython.display import Image,display\n",
    "\n",
    "from urllib.parse import urljoin\n"
   ]
  },
  {
   "cell_type": "code",
   "execution_count": 3,
   "id": "d2feb9ae",
   "metadata": {},
   "outputs": [],
   "source": [
    "section_dict = {'최신뉴스':'n0100','정치':'n0200','경제':'n0300','사회':'n0400','세계':'n0500','it/과학':'n0600'}\n",
    "\n",
    "def print_news_with_images(section_name):\n",
    "    \n",
    "    req_param = {\n",
    "        'sid': section_dict[section_name]\n",
    "    }\n",
    "    url =\"https://news.nate.com/recent?mid={sid}\".format(**req_param)\n",
    "    title_text = []\n",
    "    print(f\" ======>{url} {section_name} 뉴스 <======\")\n",
    "    req_header = {\n",
    "        'User-Agent': 'Mozilla/5.0 (Windows NT 10.0; Win64; x64) AppleWebKit/537.36 (KHTML, like Gecko) Chrome/58.0.3029.110 Safari/537.3'\n",
    "    }\n",
    "    res = requests.get(url = url,headers = req_header)\n",
    "    #print(type(res))\n",
    "    \n",
    "    if res.ok:\n",
    "        print(res.status_code) \n",
    "        res.encoding = res.apparent_encoding\n",
    "        html = res.content\n",
    "        soup = BeautifulSoup(html,'html.parser')\n",
    "        tags = soup.select(\"div [class*=mduSubjectList] div[class ^=mlt]\")\n",
    "        #newsContents > div.postListType.noListTitle > div.postSubjectContent > div:nth-child(1)\n",
    "        \n",
    "        \n",
    "        \n",
    "        for i, t in enumerate(tags,1):\n",
    "        \n",
    "            link = urljoin('https:',t.find('a' , class_='lt1')['href'] ) \n",
    "            img = soup.find('img')\n",
    "            src = urljoin('https:',t.find('img')['src'] if img else \"No IMG\") \n",
    "            title = t.find('h2', class_= 'tit').get_text()\n",
    "            \n",
    "            print(title)\n",
    "            print(f'{str(link)}',end = '\\n')\n",
    "            dis_img = Image(url = src)\n",
    "            display(dis_img)\n",
    "\n",
    "            \n"
   ]
  },
  {
   "cell_type": "code",
   "execution_count": null,
   "id": "2b6022eb",
   "metadata": {},
   "outputs": [
    {
     "name": "stdout",
     "output_type": "stream",
     "text": [
      "이 중에서만 선택 가능해요 dict_keys(['최신뉴스', '정치', '경제', '사회', '세계', 'it/과학'])\n",
      " ======>https://news.nate.com/recent?mid=n0200 정치 뉴스 <======\n",
      "200\n",
      "與 \"檢 조작 기소 의심\" 李 대북송금 의혹 공소취소 요구\n",
      "https://news.nate.com/view/20250724n00923?mid=n0200\n"
     ]
    },
    {
     "data": {
      "text/html": [
       "<img src=\"https://thumbnews.nateimg.co.kr/news90///news.nateimg.co.kr/orgImg/do/2025/07/24/132060185.1.jpg\"/>"
      ],
      "text/plain": [
       "<IPython.core.display.Image object>"
      ]
     },
     "metadata": {},
     "output_type": "display_data"
    },
    {
     "name": "stdout",
     "output_type": "stream",
     "text": [
      "李대통령, 김상환 헌재소장 임명안 재가\n",
      "https://news.nate.com/view/20250724n00927?mid=n0200\n"
     ]
    },
    {
     "data": {
      "text/html": [
       "<img src=\"https://thumbnews.nateimg.co.kr/news90///news.nateimg.co.kr/orgImg/do/2025/07/24/132056532.5.jpg\"/>"
      ],
      "text/plain": [
       "<IPython.core.display.Image object>"
      ]
     },
     "metadata": {},
     "output_type": "display_data"
    },
    {
     "name": "stdout",
     "output_type": "stream",
     "text": [
      "국힘 몫 추천 인권위원 지영준-박형명, 與 \"내란 옹호자\"…본회의 상정 보류\n",
      "https://news.nate.com/view/20250724n00926?mid=n0200\n"
     ]
    },
    {
     "data": {
      "text/html": [
       "<img src=\"https://thumbnews.nateimg.co.kr/news90///news.nateimg.co.kr/orgImg/do/2025/07/24/132060196.1.jpg\"/>"
      ],
      "text/plain": [
       "<IPython.core.display.Image object>"
      ]
     },
     "metadata": {},
     "output_type": "display_data"
    },
    {
     "name": "stdout",
     "output_type": "stream",
     "text": [
      "'윤희숙 의총 불렀나 안불렀나' 공방…쇄신 한발도 못나간 국힘\n",
      "https://news.nate.com/view/20250724n00925?mid=n0200\n"
     ]
    },
    {
     "data": {
      "text/html": [
       "<img src=\"https://thumbnews.nateimg.co.kr/news90///news.nateimg.co.kr/orgImg/do/2025/07/24/132059270.3.jpg\"/>"
      ],
      "text/plain": [
       "<IPython.core.display.Image object>"
      ]
     },
     "metadata": {},
     "output_type": "display_data"
    },
    {
     "name": "stdout",
     "output_type": "stream",
     "text": [
      "색깔 차별 둔 소비쿠폰…李 \"인권 감수성 부족\" 질타\n",
      "https://news.nate.com/view/20250724n00924?mid=n0200\n"
     ]
    },
    {
     "data": {
      "text/html": [
       "<img src=\"https://thumbnews.nateimg.co.kr/news90///news.nateimg.co.kr/orgImg/do/2025/07/24/132060172.1.jpg\"/>"
      ],
      "text/plain": [
       "<IPython.core.display.Image object>"
      ]
     },
     "metadata": {},
     "output_type": "display_data"
    },
    {
     "name": "stdout",
     "output_type": "stream",
     "text": [
      "韓, 쌀-소고기 '전략 카드' 고려…시한 다가오는데 도돌이표 해법\n",
      "https://news.nate.com/view/20250724n00914?mid=n0200\n"
     ]
    },
    {
     "data": {
      "text/html": [
       "<img src=\"https://thumbnews.nateimg.co.kr/news90///news.nateimg.co.kr/orgImg/do/2025/07/24/132060187.1.png\"/>"
      ],
      "text/plain": [
       "<IPython.core.display.Image object>"
      ]
     },
     "metadata": {},
     "output_type": "display_data"
    },
    {
     "name": "stdout",
     "output_type": "stream",
     "text": [
      "최휘영 딸, 네이버 美자회사 취직해 영주권…'아빠찬스' 논란\n",
      "https://news.nate.com/view/20250724n00910?mid=n0200\n"
     ]
    },
    {
     "data": {
      "text/html": [
       "<img src=\"https://thumbnews.nateimg.co.kr/news90///news.nateimg.co.kr/orgImg/do/2025/07/24/132060194.1.jpg\"/>"
      ],
      "text/plain": [
       "<IPython.core.display.Image object>"
      ]
     },
     "metadata": {},
     "output_type": "display_data"
    },
    {
     "name": "stdout",
     "output_type": "stream",
     "text": [
      "박찬대 \"스스로 결단해야\" 17분뒤 강선우 사퇴…대통령실, 사전교감 여부 묻자 \"잘 모르겠다\"\n",
      "https://news.nate.com/view/20250724n00909?mid=n0200\n"
     ]
    },
    {
     "data": {
      "text/html": [
       "<img src=\"https://thumbnews.nateimg.co.kr/news90///news.nateimg.co.kr/orgImg/do/2025/07/24/132060190.1.jpg\"/>"
      ],
      "text/plain": [
       "<IPython.core.display.Image object>"
      ]
     },
     "metadata": {},
     "output_type": "display_data"
    },
    {
     "name": "stdout",
     "output_type": "stream",
     "text": [
      "\"다른 의원 갑질도 폭로\" 경고에 與 돌아서…'의원 불패'도 깨져\n",
      "https://news.nate.com/view/20250724n00908?mid=n0200\n"
     ]
    },
    {
     "data": {
      "text/html": [
       "<img src=\"https://thumbnews.nateimg.co.kr/news90///news.nateimg.co.kr/orgImg/do/2025/07/24/132060175.1.png\"/>"
      ],
      "text/plain": [
       "<IPython.core.display.Image object>"
      ]
     },
     "metadata": {},
     "output_type": "display_data"
    },
    {
     "name": "stdout",
     "output_type": "stream",
     "text": [
      "李 임명 강행 하루만에, 강선우 사퇴\n",
      "https://news.nate.com/view/20250724n00901?mid=n0200\n"
     ]
    },
    {
     "data": {
      "text/html": [
       "<img src=\"https://thumbnews.nateimg.co.kr/news90///news.nateimg.co.kr/orgImg/do/2025/07/24/132059698.1.jpg\"/>"
      ],
      "text/plain": [
       "<IPython.core.display.Image object>"
      ]
     },
     "metadata": {},
     "output_type": "display_data"
    },
    {
     "name": "stdout",
     "output_type": "stream",
     "text": [
      "박찬대의 '한 방'\n",
      "https://news.nate.com/view/20250724n00462?mid=n0200\n"
     ]
    },
    {
     "data": {
      "text/html": [
       "<img src=\"https://thumbnews.nateimg.co.kr/news90///news.nateimg.co.kr/orgImg/ch/2025/07/24/ch_1753292764676_880686_0.jpg\"/>"
      ],
      "text/plain": [
       "<IPython.core.display.Image object>"
      ]
     },
     "metadata": {},
     "output_type": "display_data"
    },
    {
     "name": "stdout",
     "output_type": "stream",
     "text": [
      "민주 \"특별재난지역 추가 선포 예정…물가 안정 대책 마련\"\n",
      "https://news.nate.com/view/20250724n00741?mid=n0200\n"
     ]
    },
    {
     "data": {
      "text/html": [
       "<img src=\"https://thumbnews.nateimg.co.kr/news90///news.nateimg.co.kr/orgImg/yn/2025/07/24/202507240211099507_t.jpg\"/>"
      ],
      "text/plain": [
       "<IPython.core.display.Image object>"
      ]
     },
     "metadata": {},
     "output_type": "display_data"
    },
    {
     "name": "stdout",
     "output_type": "stream",
     "text": [
      "[투데이 窓]의료 인공지능 '1대 강국'으로 가는 길\n",
      "https://news.nate.com/view/20250724n00729?mid=n0200\n"
     ]
    },
    {
     "data": {
      "text/html": [
       "<img src=\"https://thumbnews.nateimg.co.kr/news90///news.nateimg.co.kr/orgImg/mt/2025/07/24/2025072310232031641_1.jpg\"/>"
      ],
      "text/plain": [
       "<IPython.core.display.Image object>"
      ]
     },
     "metadata": {},
     "output_type": "display_data"
    },
    {
     "name": "stdout",
     "output_type": "stream",
     "text": [
      "[MT시평]트럼프 칼날, 한국 경제 '넥스트'는?\n",
      "https://news.nate.com/view/20250724n00728?mid=n0200\n"
     ]
    },
    {
     "data": {
      "text/html": [
       "<img src=\"https://thumbnews.nateimg.co.kr/news90///news.nateimg.co.kr/orgImg/mt/2025/07/24/2025072314460584651_1.jpg\"/>"
      ],
      "text/plain": [
       "<IPython.core.display.Image object>"
      ]
     },
     "metadata": {},
     "output_type": "display_data"
    },
    {
     "name": "stdout",
     "output_type": "stream",
     "text": [
      "장동혁, 국민의힘 당 대표 출사표…\"이기는 정당 만들 것\"\n",
      "https://news.nate.com/view/20250724n00725?mid=n0200\n"
     ]
    },
    {
     "data": {
      "text/html": [
       "<img src=\"https://thumbnews.nateimg.co.kr/news90///news.nateimg.co.kr/orgImg/yn/2025/07/24/202507240157074887_t.jpg\"/>"
      ],
      "text/plain": [
       "<IPython.core.display.Image object>"
      ]
     },
     "metadata": {},
     "output_type": "display_data"
    },
    {
     "name": "stdout",
     "output_type": "stream",
     "text": [
      "국민의힘 주진우 '깜짝 출사표'…\"젊고 강한 보수\"\n",
      "https://news.nate.com/view/20250724n00724?mid=n0200\n"
     ]
    },
    {
     "data": {
      "text/html": [
       "<img src=\"https://thumbnews.nateimg.co.kr/news90///news.nateimg.co.kr/orgImg/yn/2025/07/24/202507240157210229_t.jpg\"/>"
      ],
      "text/plain": [
       "<IPython.core.display.Image object>"
      ]
     },
     "metadata": {},
     "output_type": "display_data"
    },
    {
     "name": "stdout",
     "output_type": "stream",
     "text": [
      "혁신안 논의 또 불발…장동혁 · 주진우 출마 선언\n",
      "https://news.nate.com/view/20250724n00545?mid=n0200\n"
     ]
    },
    {
     "data": {
      "text/html": [
       "<img src=\"https://thumbnews.nateimg.co.kr/news90///news.nateimg.co.kr/orgImg/sv/2025/07/24/202094344_700.jpg\"/>"
      ],
      "text/plain": [
       "<IPython.core.display.Image object>"
      ]
     },
     "metadata": {},
     "output_type": "display_data"
    },
    {
     "name": "stdout",
     "output_type": "stream",
     "text": [
      "\"다시 일어난 한국 보고싶다\"…69년 만에 방문하는 참전용사들\n",
      "https://news.nate.com/view/20250724n00517?mid=n0200\n"
     ]
    },
    {
     "data": {
      "text/html": [
       "<img src=\"https://thumbnews.nateimg.co.kr/news90///news.nateimg.co.kr/orgImg/kx/2025/07/24/2025072320460416735_1753271164_1753252687.jpg\"/>"
      ],
      "text/plain": [
       "<IPython.core.display.Image object>"
      ]
     },
     "metadata": {},
     "output_type": "display_data"
    },
    {
     "name": "stdout",
     "output_type": "stream",
     "text": [
      "李가 직접 발탁했는데…민변 출신 국정상황실장, 대통령실이 버거웠나\n",
      "https://news.nate.com/view/20250724n00466?mid=n0200\n"
     ]
    },
    {
     "data": {
      "text/html": [
       "<img src=\"https://thumbnews.nateimg.co.kr/news90///news.nateimg.co.kr/orgImg/ch/2025/07/24/ch_1753286193611_661660_0.jpg\"/>"
      ],
      "text/plain": [
       "<IPython.core.display.Image object>"
      ]
     },
     "metadata": {},
     "output_type": "display_data"
    },
    {
     "name": "stdout",
     "output_type": "stream",
     "text": [
      "이 중에서만 선택 가능해요 dict_keys(['최신뉴스', '정치', '경제', '사회', '세계', 'it/과학'])\n",
      " ======>https://news.nate.com/recent?mid=n0200 정치 뉴스 <======\n",
      "200\n",
      "與 \"檢 조작 기소 의심\" 李 대북송금 의혹 공소취소 요구\n",
      "https://news.nate.com/view/20250724n00923?mid=n0200\n"
     ]
    },
    {
     "data": {
      "text/html": [
       "<img src=\"https://thumbnews.nateimg.co.kr/news90///news.nateimg.co.kr/orgImg/do/2025/07/24/132060185.1.jpg\"/>"
      ],
      "text/plain": [
       "<IPython.core.display.Image object>"
      ]
     },
     "metadata": {},
     "output_type": "display_data"
    },
    {
     "name": "stdout",
     "output_type": "stream",
     "text": [
      "李대통령, 김상환 헌재소장 임명안 재가\n",
      "https://news.nate.com/view/20250724n00927?mid=n0200\n"
     ]
    },
    {
     "data": {
      "text/html": [
       "<img src=\"https://thumbnews.nateimg.co.kr/news90///news.nateimg.co.kr/orgImg/do/2025/07/24/132056532.5.jpg\"/>"
      ],
      "text/plain": [
       "<IPython.core.display.Image object>"
      ]
     },
     "metadata": {},
     "output_type": "display_data"
    },
    {
     "name": "stdout",
     "output_type": "stream",
     "text": [
      "국힘 몫 추천 인권위원 지영준-박형명, 與 \"내란 옹호자\"…본회의 상정 보류\n",
      "https://news.nate.com/view/20250724n00926?mid=n0200\n"
     ]
    },
    {
     "data": {
      "text/html": [
       "<img src=\"https://thumbnews.nateimg.co.kr/news90///news.nateimg.co.kr/orgImg/do/2025/07/24/132060196.1.jpg\"/>"
      ],
      "text/plain": [
       "<IPython.core.display.Image object>"
      ]
     },
     "metadata": {},
     "output_type": "display_data"
    },
    {
     "name": "stdout",
     "output_type": "stream",
     "text": [
      "'윤희숙 의총 불렀나 안불렀나' 공방…쇄신 한발도 못나간 국힘\n",
      "https://news.nate.com/view/20250724n00925?mid=n0200\n"
     ]
    },
    {
     "data": {
      "text/html": [
       "<img src=\"https://thumbnews.nateimg.co.kr/news90///news.nateimg.co.kr/orgImg/do/2025/07/24/132059270.3.jpg\"/>"
      ],
      "text/plain": [
       "<IPython.core.display.Image object>"
      ]
     },
     "metadata": {},
     "output_type": "display_data"
    },
    {
     "name": "stdout",
     "output_type": "stream",
     "text": [
      "색깔 차별 둔 소비쿠폰…李 \"인권 감수성 부족\" 질타\n",
      "https://news.nate.com/view/20250724n00924?mid=n0200\n"
     ]
    },
    {
     "data": {
      "text/html": [
       "<img src=\"https://thumbnews.nateimg.co.kr/news90///news.nateimg.co.kr/orgImg/do/2025/07/24/132060172.1.jpg\"/>"
      ],
      "text/plain": [
       "<IPython.core.display.Image object>"
      ]
     },
     "metadata": {},
     "output_type": "display_data"
    },
    {
     "name": "stdout",
     "output_type": "stream",
     "text": [
      "韓, 쌀-소고기 '전략 카드' 고려…시한 다가오는데 도돌이표 해법\n",
      "https://news.nate.com/view/20250724n00914?mid=n0200\n"
     ]
    },
    {
     "data": {
      "text/html": [
       "<img src=\"https://thumbnews.nateimg.co.kr/news90///news.nateimg.co.kr/orgImg/do/2025/07/24/132060187.1.png\"/>"
      ],
      "text/plain": [
       "<IPython.core.display.Image object>"
      ]
     },
     "metadata": {},
     "output_type": "display_data"
    },
    {
     "name": "stdout",
     "output_type": "stream",
     "text": [
      "최휘영 딸, 네이버 美자회사 취직해 영주권…'아빠찬스' 논란\n",
      "https://news.nate.com/view/20250724n00910?mid=n0200\n"
     ]
    },
    {
     "data": {
      "text/html": [
       "<img src=\"https://thumbnews.nateimg.co.kr/news90///news.nateimg.co.kr/orgImg/do/2025/07/24/132060194.1.jpg\"/>"
      ],
      "text/plain": [
       "<IPython.core.display.Image object>"
      ]
     },
     "metadata": {},
     "output_type": "display_data"
    },
    {
     "name": "stdout",
     "output_type": "stream",
     "text": [
      "박찬대 \"스스로 결단해야\" 17분뒤 강선우 사퇴…대통령실, 사전교감 여부 묻자 \"잘 모르겠다\"\n",
      "https://news.nate.com/view/20250724n00909?mid=n0200\n"
     ]
    },
    {
     "data": {
      "text/html": [
       "<img src=\"https://thumbnews.nateimg.co.kr/news90///news.nateimg.co.kr/orgImg/do/2025/07/24/132060190.1.jpg\"/>"
      ],
      "text/plain": [
       "<IPython.core.display.Image object>"
      ]
     },
     "metadata": {},
     "output_type": "display_data"
    },
    {
     "name": "stdout",
     "output_type": "stream",
     "text": [
      "\"다른 의원 갑질도 폭로\" 경고에 與 돌아서…'의원 불패'도 깨져\n",
      "https://news.nate.com/view/20250724n00908?mid=n0200\n"
     ]
    },
    {
     "data": {
      "text/html": [
       "<img src=\"https://thumbnews.nateimg.co.kr/news90///news.nateimg.co.kr/orgImg/do/2025/07/24/132060175.1.png\"/>"
      ],
      "text/plain": [
       "<IPython.core.display.Image object>"
      ]
     },
     "metadata": {},
     "output_type": "display_data"
    },
    {
     "name": "stdout",
     "output_type": "stream",
     "text": [
      "李 임명 강행 하루만에, 강선우 사퇴\n",
      "https://news.nate.com/view/20250724n00901?mid=n0200\n"
     ]
    },
    {
     "data": {
      "text/html": [
       "<img src=\"https://thumbnews.nateimg.co.kr/news90///news.nateimg.co.kr/orgImg/do/2025/07/24/132059698.1.jpg\"/>"
      ],
      "text/plain": [
       "<IPython.core.display.Image object>"
      ]
     },
     "metadata": {},
     "output_type": "display_data"
    },
    {
     "name": "stdout",
     "output_type": "stream",
     "text": [
      "박찬대의 '한 방'\n",
      "https://news.nate.com/view/20250724n00462?mid=n0200\n"
     ]
    },
    {
     "data": {
      "text/html": [
       "<img src=\"https://thumbnews.nateimg.co.kr/news90///news.nateimg.co.kr/orgImg/ch/2025/07/24/ch_1753292764676_880686_0.jpg\"/>"
      ],
      "text/plain": [
       "<IPython.core.display.Image object>"
      ]
     },
     "metadata": {},
     "output_type": "display_data"
    },
    {
     "name": "stdout",
     "output_type": "stream",
     "text": [
      "민주 \"특별재난지역 추가 선포 예정…물가 안정 대책 마련\"\n",
      "https://news.nate.com/view/20250724n00741?mid=n0200\n"
     ]
    },
    {
     "data": {
      "text/html": [
       "<img src=\"https://thumbnews.nateimg.co.kr/news90///news.nateimg.co.kr/orgImg/yn/2025/07/24/202507240211099507_t.jpg\"/>"
      ],
      "text/plain": [
       "<IPython.core.display.Image object>"
      ]
     },
     "metadata": {},
     "output_type": "display_data"
    },
    {
     "name": "stdout",
     "output_type": "stream",
     "text": [
      "[투데이 窓]의료 인공지능 '1대 강국'으로 가는 길\n",
      "https://news.nate.com/view/20250724n00729?mid=n0200\n"
     ]
    },
    {
     "data": {
      "text/html": [
       "<img src=\"https://thumbnews.nateimg.co.kr/news90///news.nateimg.co.kr/orgImg/mt/2025/07/24/2025072310232031641_1.jpg\"/>"
      ],
      "text/plain": [
       "<IPython.core.display.Image object>"
      ]
     },
     "metadata": {},
     "output_type": "display_data"
    },
    {
     "name": "stdout",
     "output_type": "stream",
     "text": [
      "[MT시평]트럼프 칼날, 한국 경제 '넥스트'는?\n",
      "https://news.nate.com/view/20250724n00728?mid=n0200\n"
     ]
    },
    {
     "data": {
      "text/html": [
       "<img src=\"https://thumbnews.nateimg.co.kr/news90///news.nateimg.co.kr/orgImg/mt/2025/07/24/2025072314460584651_1.jpg\"/>"
      ],
      "text/plain": [
       "<IPython.core.display.Image object>"
      ]
     },
     "metadata": {},
     "output_type": "display_data"
    },
    {
     "name": "stdout",
     "output_type": "stream",
     "text": [
      "장동혁, 국민의힘 당 대표 출사표…\"이기는 정당 만들 것\"\n",
      "https://news.nate.com/view/20250724n00725?mid=n0200\n"
     ]
    },
    {
     "data": {
      "text/html": [
       "<img src=\"https://thumbnews.nateimg.co.kr/news90///news.nateimg.co.kr/orgImg/yn/2025/07/24/202507240157074887_t.jpg\"/>"
      ],
      "text/plain": [
       "<IPython.core.display.Image object>"
      ]
     },
     "metadata": {},
     "output_type": "display_data"
    },
    {
     "name": "stdout",
     "output_type": "stream",
     "text": [
      "국민의힘 주진우 '깜짝 출사표'…\"젊고 강한 보수\"\n",
      "https://news.nate.com/view/20250724n00724?mid=n0200\n"
     ]
    },
    {
     "data": {
      "text/html": [
       "<img src=\"https://thumbnews.nateimg.co.kr/news90///news.nateimg.co.kr/orgImg/yn/2025/07/24/202507240157210229_t.jpg\"/>"
      ],
      "text/plain": [
       "<IPython.core.display.Image object>"
      ]
     },
     "metadata": {},
     "output_type": "display_data"
    },
    {
     "name": "stdout",
     "output_type": "stream",
     "text": [
      "혁신안 논의 또 불발…장동혁 · 주진우 출마 선언\n",
      "https://news.nate.com/view/20250724n00545?mid=n0200\n"
     ]
    },
    {
     "data": {
      "text/html": [
       "<img src=\"https://thumbnews.nateimg.co.kr/news90///news.nateimg.co.kr/orgImg/sv/2025/07/24/202094344_700.jpg\"/>"
      ],
      "text/plain": [
       "<IPython.core.display.Image object>"
      ]
     },
     "metadata": {},
     "output_type": "display_data"
    },
    {
     "name": "stdout",
     "output_type": "stream",
     "text": [
      "\"다시 일어난 한국 보고싶다\"…69년 만에 방문하는 참전용사들\n",
      "https://news.nate.com/view/20250724n00517?mid=n0200\n"
     ]
    },
    {
     "data": {
      "text/html": [
       "<img src=\"https://thumbnews.nateimg.co.kr/news90///news.nateimg.co.kr/orgImg/kx/2025/07/24/2025072320460416735_1753271164_1753252687.jpg\"/>"
      ],
      "text/plain": [
       "<IPython.core.display.Image object>"
      ]
     },
     "metadata": {},
     "output_type": "display_data"
    },
    {
     "name": "stdout",
     "output_type": "stream",
     "text": [
      "李가 직접 발탁했는데…민변 출신 국정상황실장, 대통령실이 버거웠나\n",
      "https://news.nate.com/view/20250724n00466?mid=n0200\n"
     ]
    },
    {
     "data": {
      "text/html": [
       "<img src=\"https://thumbnews.nateimg.co.kr/news90///news.nateimg.co.kr/orgImg/ch/2025/07/24/ch_1753286193611_661660_0.jpg\"/>"
      ],
      "text/plain": [
       "<IPython.core.display.Image object>"
      ]
     },
     "metadata": {},
     "output_type": "display_data"
    },
    {
     "name": "stdout",
     "output_type": "stream",
     "text": [
      "이 중에서만 선택 가능해요 dict_keys(['최신뉴스', '정치', '경제', '사회', '세계', 'it/과학'])\n",
      "이 중에서만 선택 가능해요 dict_keys(['최신뉴스', '정치', '경제', '사회', '세계', 'it/과학'])\n",
      "이 중에서만 선택 가능해요 dict_keys(['최신뉴스', '정치', '경제', '사회', '세계', 'it/과학'])\n"
     ]
    }
   ],
   "source": [
    "while True:\n",
    "        a = input(\" 주제를 입력하세오 :\")\n",
    "        try:\n",
    "                if section_dict[a]:\n",
    "                        print_news_with_images(a)\n",
    "                        break\n",
    "                else:\n",
    "                        print(f\"이 중에서만 선택 가능해요 {section_dict.keys()}\")        \n",
    "        except Exception as E:\n",
    "                print(f\"이 중에서만 선택 가능해요 {section_dict.keys()}\")\n",
    "                \n",
    "                "
   ]
  },
  {
   "cell_type": "markdown",
   "id": "9ecc04d6",
   "metadata": {},
   "source": [
    "## 2-2. 하나의 네이버 웹툰과 1개의 회차에 대한 Image 다운로드 하기 (필수)\n"
   ]
  },
  {
   "cell_type": "code",
   "execution_count": 6,
   "id": "5cae1e24",
   "metadata": {},
   "outputs": [],
   "source": [
    "# reqeusts, bs4 import\n",
    "import requests  # requests 라이브러리 import\n",
    "import bs4  # BeautifulSoup 라이브러리 import\n",
    "\n",
    "# BeautifulSoup 클래스 import\n",
    "from bs4 import BeautifulSoup  # BeautifulSoup 클래스 import\n",
    "from IPython.display import Image,display\n",
    "\n",
    "from urllib.parse import urljoin\n",
    "import os\n",
    "\n",
    "\n"
   ]
  },
  {
   "cell_type": "code",
   "execution_count": 73,
   "id": "fa47730f",
   "metadata": {},
   "outputs": [],
   "source": [
    "def download_one_episode(title,no,arg_url):\n",
    "    req_header = {\n",
    "        'User-Agent': 'Mozilla/5.0 (Windows NT 10.0; Win64; x64) AppleWebKit/537.36 (KHTML, like Gecko) Chrome/58.0.3029.110 Safari/537.3',\n",
    "        'referer': url,   \n",
    "    }\n",
    "    img_url_list = list()\n",
    "    \n",
    "    webtoon_origin_link = (f\"{arg_url}&no={str(no)}\")\n",
    "    \n",
    "    webtoon_image_path = f\"{title + str(no)}\"\n",
    "    if not os.path.isdir(webtoon_image_path):\n",
    "        os.mkdir(webtoon_image_path)\n",
    "\n",
    "    res = requests.get(url=webtoon_origin_link,headers=req_header)\n",
    "    \n",
    "    if res.ok:\n",
    "        soup = BeautifulSoup(res.text,'html.parser')\n",
    "        \n",
    "        img_tags = soup.select(\"div.wt_viewer img[src^='https://image-comic'] \")\n",
    "\n",
    "        for img_t in img_tags:\n",
    "            img_url = img_t['src']\n",
    "            img_url_list.append(img_url)\n",
    "\n",
    "        for img_u in img_url_list:\n",
    "            pass\n",
    "\n",
    "    for jpg_url in img_url_list:\n",
    "        res = requests.get(jpg_url,headers = req_header)\n",
    "        \n",
    "        if res.ok:\n",
    "            #bin_data\n",
    "            img_data = res.content\n",
    "            dir_name = os.path.join(webtoon_image_path,os.path.basename(jpg_url))\n",
    "            print(dir_name)\n",
    "            file_name = os.path.basename(jpg_url)\n",
    "            with open(dir_name,'wb') as file:\n",
    "\n",
    "                \n",
    "                if file.write(img_data):\n",
    "                    print(f\"Saved {file_name} successfully. ({(len(img_data)):,}) bytes\")                \n",
    "\n",
    "                    \n",
    "\n",
    "\n",
    "    "
   ]
  },
  {
   "cell_type": "code",
   "execution_count": 75,
   "id": "d45d5379",
   "metadata": {},
   "outputs": [
    {
     "name": "stdout",
     "output_type": "stream",
     "text": [
      "육아일기152\\img-ctguide-white_new.png\n",
      "Saved img-ctguide-white_new.png successfully. (10,207) bytes\n",
      "육아일기152\\20250611094350_b6cd0de8a72c700e532486d783928c87_IMAG01_1.jpg\n",
      "Saved 20250611094350_b6cd0de8a72c700e532486d783928c87_IMAG01_1.jpg successfully. (97,439) bytes\n",
      "육아일기152\\20250611094350_b6cd0de8a72c700e532486d783928c87_IMAG01_2.jpg\n",
      "Saved 20250611094350_b6cd0de8a72c700e532486d783928c87_IMAG01_2.jpg successfully. (95,702) bytes\n",
      "육아일기152\\20250611094350_b6cd0de8a72c700e532486d783928c87_IMAG01_3.jpg\n",
      "Saved 20250611094350_b6cd0de8a72c700e532486d783928c87_IMAG01_3.jpg successfully. (108,050) bytes\n",
      "육아일기152\\20250611094350_b6cd0de8a72c700e532486d783928c87_IMAG01_4.jpg\n",
      "Saved 20250611094350_b6cd0de8a72c700e532486d783928c87_IMAG01_4.jpg successfully. (94,630) bytes\n",
      "육아일기152\\20250611094350_b6cd0de8a72c700e532486d783928c87_IMAG01_5.jpg\n",
      "Saved 20250611094350_b6cd0de8a72c700e532486d783928c87_IMAG01_5.jpg successfully. (98,526) bytes\n",
      "육아일기152\\20250611094350_b6cd0de8a72c700e532486d783928c87_IMAG01_6.jpg\n",
      "Saved 20250611094350_b6cd0de8a72c700e532486d783928c87_IMAG01_6.jpg successfully. (119,399) bytes\n",
      "육아일기152\\20250611094350_b6cd0de8a72c700e532486d783928c87_IMAG01_7.jpg\n",
      "Saved 20250611094350_b6cd0de8a72c700e532486d783928c87_IMAG01_7.jpg successfully. (118,819) bytes\n",
      "육아일기152\\20250611094350_b6cd0de8a72c700e532486d783928c87_IMAG01_8.jpg\n",
      "Saved 20250611094350_b6cd0de8a72c700e532486d783928c87_IMAG01_8.jpg successfully. (122,015) bytes\n",
      "육아일기152\\20250611094350_b6cd0de8a72c700e532486d783928c87_IMAG01_9.jpg\n",
      "Saved 20250611094350_b6cd0de8a72c700e532486d783928c87_IMAG01_9.jpg successfully. (139,170) bytes\n",
      "육아일기152\\20250611094350_b6cd0de8a72c700e532486d783928c87_IMAG01_10.jpg\n",
      "Saved 20250611094350_b6cd0de8a72c700e532486d783928c87_IMAG01_10.jpg successfully. (130,633) bytes\n",
      "육아일기152\\20250611094350_b6cd0de8a72c700e532486d783928c87_IMAG01_11.jpg\n",
      "Saved 20250611094350_b6cd0de8a72c700e532486d783928c87_IMAG01_11.jpg successfully. (118,470) bytes\n",
      "육아일기152\\20250611094350_b6cd0de8a72c700e532486d783928c87_IMAG01_12.jpg\n",
      "Saved 20250611094350_b6cd0de8a72c700e532486d783928c87_IMAG01_12.jpg successfully. (65,119) bytes\n",
      "육아일기152\\20250611094350_b6cd0de8a72c700e532486d783928c87_IMAG01_13.jpg\n",
      "Saved 20250611094350_b6cd0de8a72c700e532486d783928c87_IMAG01_13.jpg successfully. (12,205) bytes\n"
     ]
    }
   ],
   "source": [
    "webtoon_title = '육아일기'\n",
    "title_id=812354\n",
    "url = f'https://comic.naver.com/webtoon/detail?titleId={str(title_id)}&'\n",
    "no = 152\n",
    "\n",
    "download_one_episode(webtoon_title,no,url)\n"
   ]
  },
  {
   "cell_type": "code",
   "execution_count": 76,
   "id": "c4bcb080",
   "metadata": {},
   "outputs": [
    {
     "name": "stdout",
     "output_type": "stream",
     "text": [
      "칼부림468\\20250702143804_4a98a5630270c3008c8150ab5598aafd_IMAG01_1.jpg\n",
      "Saved 20250702143804_4a98a5630270c3008c8150ab5598aafd_IMAG01_1.jpg successfully. (88,484) bytes\n",
      "칼부림468\\20250702143804_4a98a5630270c3008c8150ab5598aafd_IMAG01_2.jpg\n",
      "Saved 20250702143804_4a98a5630270c3008c8150ab5598aafd_IMAG01_2.jpg successfully. (228,911) bytes\n",
      "칼부림468\\20250702143804_4a98a5630270c3008c8150ab5598aafd_IMAG01_3.jpg\n",
      "Saved 20250702143804_4a98a5630270c3008c8150ab5598aafd_IMAG01_3.jpg successfully. (183,682) bytes\n",
      "칼부림468\\20250702143804_4a98a5630270c3008c8150ab5598aafd_IMAG01_4.jpg\n",
      "Saved 20250702143804_4a98a5630270c3008c8150ab5598aafd_IMAG01_4.jpg successfully. (193,698) bytes\n",
      "칼부림468\\20250702143804_4a98a5630270c3008c8150ab5598aafd_IMAG01_5.jpg\n",
      "Saved 20250702143804_4a98a5630270c3008c8150ab5598aafd_IMAG01_5.jpg successfully. (179,014) bytes\n",
      "칼부림468\\20250702143804_4a98a5630270c3008c8150ab5598aafd_IMAG01_6.jpg\n",
      "Saved 20250702143804_4a98a5630270c3008c8150ab5598aafd_IMAG01_6.jpg successfully. (242,073) bytes\n",
      "칼부림468\\20250702143804_4a98a5630270c3008c8150ab5598aafd_IMAG01_7.jpg\n",
      "Saved 20250702143804_4a98a5630270c3008c8150ab5598aafd_IMAG01_7.jpg successfully. (192,660) bytes\n",
      "칼부림468\\20250702143804_4a98a5630270c3008c8150ab5598aafd_IMAG01_8.jpg\n",
      "Saved 20250702143804_4a98a5630270c3008c8150ab5598aafd_IMAG01_8.jpg successfully. (208,249) bytes\n",
      "칼부림468\\20250702143804_4a98a5630270c3008c8150ab5598aafd_IMAG01_9.jpg\n",
      "Saved 20250702143804_4a98a5630270c3008c8150ab5598aafd_IMAG01_9.jpg successfully. (174,066) bytes\n",
      "칼부림468\\20250702143804_4a98a5630270c3008c8150ab5598aafd_IMAG01_10.jpg\n",
      "Saved 20250702143804_4a98a5630270c3008c8150ab5598aafd_IMAG01_10.jpg successfully. (150,413) bytes\n",
      "칼부림468\\20250702143804_4a98a5630270c3008c8150ab5598aafd_IMAG01_11.jpg\n",
      "Saved 20250702143804_4a98a5630270c3008c8150ab5598aafd_IMAG01_11.jpg successfully. (122,886) bytes\n",
      "칼부림468\\20250702143804_4a98a5630270c3008c8150ab5598aafd_IMAG01_12.jpg\n",
      "Saved 20250702143804_4a98a5630270c3008c8150ab5598aafd_IMAG01_12.jpg successfully. (223,140) bytes\n",
      "칼부림468\\20250702143804_4a98a5630270c3008c8150ab5598aafd_IMAG01_13.jpg\n",
      "Saved 20250702143804_4a98a5630270c3008c8150ab5598aafd_IMAG01_13.jpg successfully. (223,445) bytes\n",
      "칼부림468\\20250702143804_4a98a5630270c3008c8150ab5598aafd_IMAG01_14.jpg\n",
      "Saved 20250702143804_4a98a5630270c3008c8150ab5598aafd_IMAG01_14.jpg successfully. (258,287) bytes\n",
      "칼부림468\\20250702143804_4a98a5630270c3008c8150ab5598aafd_IMAG01_15.jpg\n",
      "Saved 20250702143804_4a98a5630270c3008c8150ab5598aafd_IMAG01_15.jpg successfully. (198,596) bytes\n",
      "칼부림468\\20250702143804_4a98a5630270c3008c8150ab5598aafd_IMAG01_16.jpg\n",
      "Saved 20250702143804_4a98a5630270c3008c8150ab5598aafd_IMAG01_16.jpg successfully. (252,146) bytes\n",
      "칼부림468\\20250702143804_4a98a5630270c3008c8150ab5598aafd_IMAG01_17.jpg\n",
      "Saved 20250702143804_4a98a5630270c3008c8150ab5598aafd_IMAG01_17.jpg successfully. (178,097) bytes\n",
      "칼부림468\\20250702143804_4a98a5630270c3008c8150ab5598aafd_IMAG01_18.jpg\n",
      "Saved 20250702143804_4a98a5630270c3008c8150ab5598aafd_IMAG01_18.jpg successfully. (198,311) bytes\n",
      "칼부림468\\20250702143804_4a98a5630270c3008c8150ab5598aafd_IMAG01_19.jpg\n",
      "Saved 20250702143804_4a98a5630270c3008c8150ab5598aafd_IMAG01_19.jpg successfully. (161,516) bytes\n",
      "칼부림468\\20250702143804_4a98a5630270c3008c8150ab5598aafd_IMAG01_20.jpg\n",
      "Saved 20250702143804_4a98a5630270c3008c8150ab5598aafd_IMAG01_20.jpg successfully. (305,344) bytes\n",
      "칼부림468\\20250702143804_4a98a5630270c3008c8150ab5598aafd_IMAG01_21.jpg\n",
      "Saved 20250702143804_4a98a5630270c3008c8150ab5598aafd_IMAG01_21.jpg successfully. (219,451) bytes\n",
      "칼부림468\\20250702143804_4a98a5630270c3008c8150ab5598aafd_IMAG01_22.jpg\n",
      "Saved 20250702143804_4a98a5630270c3008c8150ab5598aafd_IMAG01_22.jpg successfully. (274,040) bytes\n",
      "칼부림468\\20250702143804_4a98a5630270c3008c8150ab5598aafd_IMAG01_23.jpg\n",
      "Saved 20250702143804_4a98a5630270c3008c8150ab5598aafd_IMAG01_23.jpg successfully. (187,138) bytes\n",
      "칼부림468\\20250702143804_4a98a5630270c3008c8150ab5598aafd_IMAG01_24.jpg\n",
      "Saved 20250702143804_4a98a5630270c3008c8150ab5598aafd_IMAG01_24.jpg successfully. (979) bytes\n"
     ]
    }
   ],
   "source": [
    "\n",
    "\n",
    "webtoon_title = '칼부림'\n",
    "title_id=602916\n",
    "url = f'https://comic.naver.com/webtoon/detail?titleId={str(title_id)}&'\n",
    "no = 468\n",
    "\n",
    "download_one_episode(webtoon_title,no,url)"
   ]
  }
 ],
 "metadata": {
  "kernelspec": {
   "display_name": "base",
   "language": "python",
   "name": "python3"
  },
  "language_info": {
   "codemirror_mode": {
    "name": "ipython",
    "version": 3
   },
   "file_extension": ".py",
   "mimetype": "text/x-python",
   "name": "python",
   "nbconvert_exporter": "python",
   "pygments_lexer": "ipython3",
   "version": "3.13.5"
  }
 },
 "nbformat": 4,
 "nbformat_minor": 5
}
