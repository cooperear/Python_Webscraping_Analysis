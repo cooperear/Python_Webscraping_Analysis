{
 "cells": [
  {
   "cell_type": "code",
   "execution_count": 1,
   "id": "6414ee5b",
   "metadata": {},
   "outputs": [
    {
     "data": {
      "text/plain": [
       "'\\n SSS  K   K        SSS  H   H IIIII EEEEE L     DDDD  EEEEE RRRR   SSS        4   4 TTTTT H   H       RRRR   OOO   OOO  K   K IIIII EEEEE  SSS  \\nS     K  K        S     H   H   I   E     L     D   D E     R   R S           4   4   T   H   H       R   R O   O O   O K  K    I   E     S     \\n SSS  KKK          SSS  HHHHH   I   EEEEE L     D   D EEEEE RRRR   SSS        44444   T   HHHHH       RRRR  O   O O   O KKK     I   EEEEE  SSS  \\n    S K  K            S H   H   I   E     L     D   D E     R  R      S           4   T   H   H       R  R  O   O O   O K  K    I   E         S \\nSSSS  K   K       SSSS  H   H IIIII EEEEE LLLLL DDDD  EEEEE R   R SSSS            4   T   H   H       R   R  OOO   OOO  K   K IIIII EEEEE SSSS  \\n\\n박시훈\\n01_네이트and네이버 웹툰.ipynb\\n2025-07-24\\n'"
      ]
     },
     "execution_count": 1,
     "metadata": {},
     "output_type": "execute_result"
    }
   ],
   "source": [
    "\n",
    "\"\"\"\n",
    " SSS  K   K        SSS  H   H IIIII EEEEE L     DDDD  EEEEE RRRR   SSS        4   4 TTTTT H   H       RRRR   OOO   OOO  K   K IIIII EEEEE  SSS  \n",
    "S     K  K        S     H   H   I   E     L     D   D E     R   R S           4   4   T   H   H       R   R O   O O   O K  K    I   E     S     \n",
    " SSS  KKK          SSS  HHHHH   I   EEEEE L     D   D EEEEE RRRR   SSS        44444   T   HHHHH       RRRR  O   O O   O KKK     I   EEEEE  SSS  \n",
    "    S K  K            S H   H   I   E     L     D   D E     R  R      S           4   T   H   H       R  R  O   O O   O K  K    I   E         S \n",
    "SSSS  K   K       SSSS  H   H IIIII EEEEE LLLLL DDDD  EEEEE R   R SSSS            4   T   H   H       R   R  OOO   OOO  K   K IIIII EEEEE SSSS  \n",
    "\n",
    "박시훈\n",
    "01_네이트and네이버 웹툰.ipynb\n",
    "2025-07-24\n",
    "\"\"\"\n"
   ]
  },
  {
   "cell_type": "markdown",
   "id": "ccc113a1",
   "metadata": {},
   "source": [
    "# 2. 웹스크래핑 연습문제\n"
   ]
  },
  {
   "cell_type": "markdown",
   "id": "97c306d0",
   "metadata": {},
   "source": [
    "## 2-1. Nate 뉴스기사 제목 스크래핑하기 (필수)\n"
   ]
  },
  {
   "cell_type": "code",
   "execution_count": 9,
   "id": "49b29ba4",
   "metadata": {},
   "outputs": [],
   "source": [
    "# reqeusts, bs4 import\n",
    "import requests  # requests 라이브러리 import\n",
    "import bs4  # BeautifulSoup 라이브러리 import\n",
    "\n",
    "# BeautifulSoup 클래스 import\n",
    "from bs4 import BeautifulSoup  # BeautifulSoup 클래스 import\n",
    "from IPython.display import Image,display\n",
    "\n",
    "from urllib.parse import urljoin\n"
   ]
  },
  {
   "cell_type": "code",
   "execution_count": 10,
   "id": "d2feb9ae",
   "metadata": {},
   "outputs": [],
   "source": [
    "section_dict = {'최신뉴스':'n0100','정치':'n0200','경제':'n0300','사회':'n0400','세계':'n0500','it/과학':'n0600'}\n",
    "\n",
    "def print_news_with_images(section_name):\n",
    "    \n",
    "    req_param = {\n",
    "        'sid': section_dict[section_name]\n",
    "    }\n",
    "    url =\"https://news.nate.com/recent?mid={sid}\".format(**req_param)\n",
    "    title_text = []\n",
    "    print(f\" ======>{url} {section_name} 뉴스 <======\")\n",
    "    req_header = {\n",
    "        'User-Agent': 'Mozilla/5.0 (Windows NT 10.0; Win64; x64) AppleWebKit/537.36 (KHTML, like Gecko) Chrome/58.0.3029.110 Safari/537.3'\n",
    "    }\n",
    "    res = requests.get(url = url,headers = req_header)\n",
    "    #print(type(res))\n",
    "    \n",
    "    if res.ok:\n",
    "        print(res.status_code) \n",
    "        res.encoding = res.apparent_encoding\n",
    "        html = res.content\n",
    "        soup = BeautifulSoup(html,'html.parser')\n",
    "        tags = soup.select(\"div [class*=mduSubjectList] div[class ^=mlt]\")\n",
    "        #newsContents > div.postListType.noListTitle > div.postSubjectContent > div:nth-child(1)\n",
    "        \n",
    "        \n",
    "        \n",
    "        for i, t in enumerate(tags,1):\n",
    "        \n",
    "            link = urljoin('https:',t.find('a' , class_='lt1')['href'] ) \n",
    "            img = soup.find('img')\n",
    "            src = urljoin('https:',t.find('img')['src'] if img else \"No IMG\") \n",
    "            title = t.find('h2', class_= 'tit').get_text()\n",
    "            \n",
    "            print(title)\n",
    "            print(f'{str(link)}',end = '\\n')\n",
    "            dis_img = Image(url = src)\n",
    "            display(dis_img)\n",
    "\n",
    "            \n"
   ]
  },
  {
   "cell_type": "code",
   "execution_count": 11,
   "id": "2b6022eb",
   "metadata": {},
   "outputs": [
    {
     "name": "stdout",
     "output_type": "stream",
     "text": [
      " ======>https://news.nate.com/recent?mid=n0200 정치 뉴스 <======\n",
      "200\n",
      "해마다 문의만 3000건…보장원서 관리 일원화\n",
      "https://news.nate.com/view/20250724n01114?mid=n0200\n"
     ]
    },
    {
     "data": {
      "text/html": [
       "<img src=\"https://thumbnews.nateimg.co.kr/news90///news.nateimg.co.kr/orgImg/mt/2025/07/24/2025072320480521521_1.jpg\"/>"
      ],
      "text/plain": [
       "<IPython.core.display.Image object>"
      ]
     },
     "metadata": {},
     "output_type": "display_data"
    },
    {
     "name": "stdout",
     "output_type": "stream",
     "text": [
      "안철수 \"尹, 들이받고 싶었다. 단일화하면 다 주겠다더니…\"\n",
      "https://news.nate.com/view/20250724n01111?mid=n0200\n"
     ]
    },
    {
     "data": {
      "text/html": [
       "<img src=\"https://thumbnews.nateimg.co.kr/news90///news.nateimg.co.kr/orgImg/fn/2025/07/24/202507231717371343_l.jpg\"/>"
      ],
      "text/plain": [
       "<IPython.core.display.Image object>"
      ]
     },
     "metadata": {},
     "output_type": "display_data"
    },
    {
     "name": "stdout",
     "output_type": "stream",
     "text": [
      "일본·필리핀·인니 연달아 관세협상 타결…부담 커지는 통상당국\n",
      "https://news.nate.com/view/20250724n01101?mid=n0200\n"
     ]
    },
    {
     "data": {
      "text/html": [
       "<img src=\"https://thumbnews.nateimg.co.kr/news90///news.nateimg.co.kr/orgImg/mt/2025/07/24/2025072317273459859_1.jpg\"/>"
      ],
      "text/plain": [
       "<IPython.core.display.Image object>"
      ]
     },
     "metadata": {},
     "output_type": "display_data"
    },
    {
     "name": "stdout",
     "output_type": "stream",
     "text": [
      "항온항습 설비 갖췄다지만…26만권 입양기록물 관리 우려\n",
      "https://news.nate.com/view/20250724n01100?mid=n0200\n"
     ]
    },
    {
     "data": {
      "text/html": [
       "<img src=\"https://thumbnews.nateimg.co.kr/news90///news.nateimg.co.kr/orgImg/mt/2025/07/24/2025072320452484104_1.jpg\"/>"
      ],
      "text/plain": [
       "<IPython.core.display.Image object>"
      ]
     },
     "metadata": {},
     "output_type": "display_data"
    },
    {
     "name": "stdout",
     "output_type": "stream",
     "text": [
      "\"강선우, 공정 이슈로 제2의 조국 될라\"…현역의원 이례적 자진 사퇴\n",
      "https://news.nate.com/view/20250724n01092?mid=n0200\n"
     ]
    },
    {
     "data": {
      "text/html": [
       "<img src=\"https://thumbnews.nateimg.co.kr/news90///news.nateimg.co.kr/orgImg/hi/2025/07/24/ffe72dc6-4afa-4a9c-b8a5-7cc7b5df965d.jpg\"/>"
      ],
      "text/plain": [
       "<IPython.core.display.Image object>"
      ]
     },
     "metadata": {},
     "output_type": "display_data"
    },
    {
     "name": "stdout",
     "output_type": "stream",
     "text": [
      "[단독] 이종석, 취임 직후 '평양 무인기' 국정원 연관성 살펴봐…내부 감찰도 개시\n",
      "https://news.nate.com/view/20250724n01091?mid=n0200\n"
     ]
    },
    {
     "data": {
      "text/html": [
       "<img src=\"https://thumbnews.nateimg.co.kr/news90///news.nateimg.co.kr/orgImg/hi/2025/07/24/69f80c3d-41c3-4fd5-93a2-306960201022.jpg\"/>"
      ],
      "text/plain": [
       "<IPython.core.display.Image object>"
      ]
     },
     "metadata": {},
     "output_type": "display_data"
    },
    {
     "name": "stdout",
     "output_type": "stream",
     "text": [
      "김문수 \"尹, 감옥서 특검 재판…얼마나 답답하고 힘들겠나\"\n",
      "https://news.nate.com/view/20250724n01075?mid=n0200\n"
     ]
    },
    {
     "data": {
      "text/html": [
       "<img src=\"https://thumbnews.nateimg.co.kr/news90///news.nateimg.co.kr/orgImg/fn/2025/07/24/202507231747479576_l.jpg\"/>"
      ],
      "text/plain": [
       "<IPython.core.display.Image object>"
      ]
     },
     "metadata": {},
     "output_type": "display_data"
    },
    {
     "name": "stdout",
     "output_type": "stream",
     "text": [
      "\"잘 해보고 싶었는데 여기까지다\"…강선우, 사퇴 1시간 전 대통령실에 보고\n",
      "https://news.nate.com/view/20250724n01058?mid=n0200\n"
     ]
    },
    {
     "data": {
      "text/html": [
       "<img src=\"https://thumbnews.nateimg.co.kr/news90///news.nateimg.co.kr/orgImg/fn/2025/07/24/202507231651076773_l.jpg\"/>"
      ],
      "text/plain": [
       "<IPython.core.display.Image object>"
      ]
     },
     "metadata": {},
     "output_type": "display_data"
    },
    {
     "name": "stdout",
     "output_type": "stream",
     "text": [
      "일본, '알래스카 가스 개발' 지분 투자키로…한국 참여 방안은?\n",
      "https://news.nate.com/view/20250724n01055?mid=n0200\n"
     ]
    },
    {
     "data": {
      "text/html": [
       "<img src=\"https://thumbnews.nateimg.co.kr/news90///news.nateimg.co.kr/orgImg/mt/2025/07/24/2025072316514613438_1.jpg\"/>"
      ],
      "text/plain": [
       "<IPython.core.display.Image object>"
      ]
     },
     "metadata": {},
     "output_type": "display_data"
    },
    {
     "name": "stdout",
     "output_type": "stream",
     "text": [
      "100일 남은 APEC, 주요국 정상 한자리에…李정부 주재 첫 국제행사 시험대\n",
      "https://news.nate.com/view/20250724n01039?mid=n0200\n"
     ]
    },
    {
     "data": {
      "text/html": [
       "<img src=\"https://thumbnews.nateimg.co.kr/news90///news.nateimg.co.kr/orgImg/dn/2025/07/24/news_1753262890_1526933_m_1.jpg\"/>"
      ],
      "text/plain": [
       "<IPython.core.display.Image object>"
      ]
     },
     "metadata": {},
     "output_type": "display_data"
    },
    {
     "name": "stdout",
     "output_type": "stream",
     "text": [
      "혁신안 논의 또 불발…장동혁 · 주진우 출마 선언\n",
      "https://news.nate.com/view/20250724n00545?mid=n0200\n"
     ]
    },
    {
     "data": {
      "text/html": [
       "<img src=\"https://thumbnews.nateimg.co.kr/news90///news.nateimg.co.kr/orgImg/sv/2025/07/24/202094344_700.jpg\"/>"
      ],
      "text/plain": [
       "<IPython.core.display.Image object>"
      ]
     },
     "metadata": {},
     "output_type": "display_data"
    },
    {
     "name": "stdout",
     "output_type": "stream",
     "text": [
      "與 \"檢 조작 기소 의심\" 李 대북송금 의혹 공소취소 요구\n",
      "https://news.nate.com/view/20250724n00923?mid=n0200\n"
     ]
    },
    {
     "data": {
      "text/html": [
       "<img src=\"https://thumbnews.nateimg.co.kr/news90///news.nateimg.co.kr/orgImg/do/2025/07/24/132060185.1.jpg\"/>"
      ],
      "text/plain": [
       "<IPython.core.display.Image object>"
      ]
     },
     "metadata": {},
     "output_type": "display_data"
    },
    {
     "name": "stdout",
     "output_type": "stream",
     "text": [
      "李대통령, 김상환 헌재소장 임명안 재가\n",
      "https://news.nate.com/view/20250724n00927?mid=n0200\n"
     ]
    },
    {
     "data": {
      "text/html": [
       "<img src=\"https://thumbnews.nateimg.co.kr/news90///news.nateimg.co.kr/orgImg/do/2025/07/24/132056532.5.jpg\"/>"
      ],
      "text/plain": [
       "<IPython.core.display.Image object>"
      ]
     },
     "metadata": {},
     "output_type": "display_data"
    },
    {
     "name": "stdout",
     "output_type": "stream",
     "text": [
      "국힘 몫 추천 인권위원 지영준-박형명, 與 \"내란 옹호자\"…본회의 상정 보류\n",
      "https://news.nate.com/view/20250724n00926?mid=n0200\n"
     ]
    },
    {
     "data": {
      "text/html": [
       "<img src=\"https://thumbnews.nateimg.co.kr/news90///news.nateimg.co.kr/orgImg/do/2025/07/24/132060196.1.jpg\"/>"
      ],
      "text/plain": [
       "<IPython.core.display.Image object>"
      ]
     },
     "metadata": {},
     "output_type": "display_data"
    },
    {
     "name": "stdout",
     "output_type": "stream",
     "text": [
      "'윤희숙 의총 불렀나 안불렀나' 공방…쇄신 한발도 못나간 국힘\n",
      "https://news.nate.com/view/20250724n00925?mid=n0200\n"
     ]
    },
    {
     "data": {
      "text/html": [
       "<img src=\"https://thumbnews.nateimg.co.kr/news90///news.nateimg.co.kr/orgImg/do/2025/07/24/132059270.3.jpg\"/>"
      ],
      "text/plain": [
       "<IPython.core.display.Image object>"
      ]
     },
     "metadata": {},
     "output_type": "display_data"
    },
    {
     "name": "stdout",
     "output_type": "stream",
     "text": [
      "색깔 차별 둔 소비쿠폰…李 \"인권 감수성 부족\" 질타\n",
      "https://news.nate.com/view/20250724n00924?mid=n0200\n"
     ]
    },
    {
     "data": {
      "text/html": [
       "<img src=\"https://thumbnews.nateimg.co.kr/news90///news.nateimg.co.kr/orgImg/do/2025/07/24/132060172.1.jpg\"/>"
      ],
      "text/plain": [
       "<IPython.core.display.Image object>"
      ]
     },
     "metadata": {},
     "output_type": "display_data"
    },
    {
     "name": "stdout",
     "output_type": "stream",
     "text": [
      "韓, 쌀-소고기 '전략 카드' 고려…시한 다가오는데 도돌이표 해법\n",
      "https://news.nate.com/view/20250724n00914?mid=n0200\n"
     ]
    },
    {
     "data": {
      "text/html": [
       "<img src=\"https://thumbnews.nateimg.co.kr/news90///news.nateimg.co.kr/orgImg/do/2025/07/24/132060187.1.png\"/>"
      ],
      "text/plain": [
       "<IPython.core.display.Image object>"
      ]
     },
     "metadata": {},
     "output_type": "display_data"
    },
    {
     "name": "stdout",
     "output_type": "stream",
     "text": [
      "최휘영 딸, 네이버 美자회사 취직해 영주권…'아빠찬스' 논란\n",
      "https://news.nate.com/view/20250724n00910?mid=n0200\n"
     ]
    },
    {
     "data": {
      "text/html": [
       "<img src=\"https://thumbnews.nateimg.co.kr/news90///news.nateimg.co.kr/orgImg/do/2025/07/24/132060194.1.jpg\"/>"
      ],
      "text/plain": [
       "<IPython.core.display.Image object>"
      ]
     },
     "metadata": {},
     "output_type": "display_data"
    },
    {
     "name": "stdout",
     "output_type": "stream",
     "text": [
      "박찬대 \"스스로 결단해야\" 17분뒤 강선우 사퇴…대통령실, 사전교감 여부 묻자 \"잘 모르겠다\"\n",
      "https://news.nate.com/view/20250724n00909?mid=n0200\n"
     ]
    },
    {
     "data": {
      "text/html": [
       "<img src=\"https://thumbnews.nateimg.co.kr/news90///news.nateimg.co.kr/orgImg/do/2025/07/24/132060190.1.jpg\"/>"
      ],
      "text/plain": [
       "<IPython.core.display.Image object>"
      ]
     },
     "metadata": {},
     "output_type": "display_data"
    },
    {
     "name": "stdout",
     "output_type": "stream",
     "text": [
      "\"다른 의원 갑질도 폭로\" 경고에 與 돌아서…'의원 불패'도 깨져\n",
      "https://news.nate.com/view/20250724n00908?mid=n0200\n"
     ]
    },
    {
     "data": {
      "text/html": [
       "<img src=\"https://thumbnews.nateimg.co.kr/news90///news.nateimg.co.kr/orgImg/do/2025/07/24/132060175.1.png\"/>"
      ],
      "text/plain": [
       "<IPython.core.display.Image object>"
      ]
     },
     "metadata": {},
     "output_type": "display_data"
    }
   ],
   "source": [
    "while True:\n",
    "        a = input(\" 주제를 입력하세오 :\")\n",
    "        try:\n",
    "                if section_dict[a]:\n",
    "                        print_news_with_images(a)\n",
    "                        break\n",
    "                else:\n",
    "                        print(f\"이 중에서만 선택 가능해요 {section_dict.keys()}\")        \n",
    "        except Exception as E:\n",
    "                print(f\"이 중에서만 선택 가능해요 {section_dict.keys()}\")\n",
    "                \n",
    "                "
   ]
  },
  {
   "cell_type": "markdown",
   "id": "9ecc04d6",
   "metadata": {},
   "source": [
    "## 2-2. 하나의 네이버 웹툰과 1개의 회차에 대한 Image 다운로드 하기 (필수)\n"
   ]
  },
  {
   "cell_type": "code",
   "execution_count": 12,
   "id": "5cae1e24",
   "metadata": {},
   "outputs": [],
   "source": [
    "# reqeusts, bs4 import\n",
    "import requests  # requests 라이브러리 import\n",
    "import bs4  # BeautifulSoup 라이브러리 import\n",
    "\n",
    "# BeautifulSoup 클래스 import\n",
    "from bs4 import BeautifulSoup  # BeautifulSoup 클래스 import\n",
    "from IPython.display import Image,display\n",
    "\n",
    "from urllib.parse import urljoin\n",
    "import os\n",
    "\n",
    "\n"
   ]
  },
  {
   "cell_type": "code",
   "execution_count": 13,
   "id": "fa47730f",
   "metadata": {},
   "outputs": [],
   "source": [
    "def download_one_episode(title,no,arg_url):\n",
    "    req_header = {\n",
    "        'User-Agent': 'Mozilla/5.0 (Windows NT 10.0; Win64; x64) AppleWebKit/537.36 (KHTML, like Gecko) Chrome/58.0.3029.110 Safari/537.3',\n",
    "        'referer': url,   \n",
    "    }\n",
    "    img_url_list = list()\n",
    "    \n",
    "    webtoon_origin_link = (f\"{arg_url}&no={str(no)}\")\n",
    "    \n",
    "    webtoon_image_path = f\"{title + str(no)}\"\n",
    "    if not os.path.isdir(webtoon_image_path):\n",
    "        os.mkdir(webtoon_image_path)\n",
    "\n",
    "    res = requests.get(url=webtoon_origin_link,headers=req_header)\n",
    "    \n",
    "    if res.ok:\n",
    "        soup = BeautifulSoup(res.text,'html.parser')\n",
    "        \n",
    "        img_tags = soup.select(\"div.wt_viewer img[src^='https://image-comic'] \")\n",
    "\n",
    "        for img_t in img_tags:\n",
    "            img_url = img_t['src']\n",
    "            img_url_list.append(img_url)\n",
    "\n",
    "        for img_u in img_url_list:\n",
    "            pass\n",
    "\n",
    "    for jpg_url in img_url_list:\n",
    "        res = requests.get(jpg_url,headers = req_header)\n",
    "        \n",
    "        if res.ok:\n",
    "            #bin_data\n",
    "            img_data = res.content\n",
    "            dir_name = os.path.join(webtoon_image_path,os.path.basename(jpg_url))\n",
    "            print(dir_name)\n",
    "            file_name = os.path.basename(jpg_url)\n",
    "            with open(dir_name,'wb') as file:\n",
    "\n",
    "                \n",
    "                if file.write(img_data):\n",
    "                    print(f\"Saved {file_name} successfully. ({(len(img_data)):,}) bytes\")                \n",
    "\n",
    "                    \n",
    "\n",
    "\n",
    "    "
   ]
  },
  {
   "cell_type": "code",
   "execution_count": 14,
   "id": "d45d5379",
   "metadata": {},
   "outputs": [
    {
     "name": "stdout",
     "output_type": "stream",
     "text": [
      "육아일기152\\img-ctguide-white_new.png\n",
      "Saved img-ctguide-white_new.png successfully. (10,207) bytes\n",
      "육아일기152\\20250611094350_b6cd0de8a72c700e532486d783928c87_IMAG01_1.jpg\n",
      "Saved 20250611094350_b6cd0de8a72c700e532486d783928c87_IMAG01_1.jpg successfully. (97,439) bytes\n",
      "육아일기152\\20250611094350_b6cd0de8a72c700e532486d783928c87_IMAG01_2.jpg\n",
      "Saved 20250611094350_b6cd0de8a72c700e532486d783928c87_IMAG01_2.jpg successfully. (95,702) bytes\n",
      "육아일기152\\20250611094350_b6cd0de8a72c700e532486d783928c87_IMAG01_3.jpg\n",
      "Saved 20250611094350_b6cd0de8a72c700e532486d783928c87_IMAG01_3.jpg successfully. (108,050) bytes\n",
      "육아일기152\\20250611094350_b6cd0de8a72c700e532486d783928c87_IMAG01_4.jpg\n",
      "Saved 20250611094350_b6cd0de8a72c700e532486d783928c87_IMAG01_4.jpg successfully. (94,630) bytes\n",
      "육아일기152\\20250611094350_b6cd0de8a72c700e532486d783928c87_IMAG01_5.jpg\n",
      "Saved 20250611094350_b6cd0de8a72c700e532486d783928c87_IMAG01_5.jpg successfully. (98,526) bytes\n",
      "육아일기152\\20250611094350_b6cd0de8a72c700e532486d783928c87_IMAG01_6.jpg\n",
      "Saved 20250611094350_b6cd0de8a72c700e532486d783928c87_IMAG01_6.jpg successfully. (119,399) bytes\n",
      "육아일기152\\20250611094350_b6cd0de8a72c700e532486d783928c87_IMAG01_7.jpg\n",
      "Saved 20250611094350_b6cd0de8a72c700e532486d783928c87_IMAG01_7.jpg successfully. (118,819) bytes\n",
      "육아일기152\\20250611094350_b6cd0de8a72c700e532486d783928c87_IMAG01_8.jpg\n",
      "Saved 20250611094350_b6cd0de8a72c700e532486d783928c87_IMAG01_8.jpg successfully. (122,015) bytes\n",
      "육아일기152\\20250611094350_b6cd0de8a72c700e532486d783928c87_IMAG01_9.jpg\n",
      "Saved 20250611094350_b6cd0de8a72c700e532486d783928c87_IMAG01_9.jpg successfully. (139,170) bytes\n",
      "육아일기152\\20250611094350_b6cd0de8a72c700e532486d783928c87_IMAG01_10.jpg\n",
      "Saved 20250611094350_b6cd0de8a72c700e532486d783928c87_IMAG01_10.jpg successfully. (130,633) bytes\n",
      "육아일기152\\20250611094350_b6cd0de8a72c700e532486d783928c87_IMAG01_11.jpg\n",
      "Saved 20250611094350_b6cd0de8a72c700e532486d783928c87_IMAG01_11.jpg successfully. (118,470) bytes\n",
      "육아일기152\\20250611094350_b6cd0de8a72c700e532486d783928c87_IMAG01_12.jpg\n",
      "Saved 20250611094350_b6cd0de8a72c700e532486d783928c87_IMAG01_12.jpg successfully. (65,119) bytes\n",
      "육아일기152\\20250611094350_b6cd0de8a72c700e532486d783928c87_IMAG01_13.jpg\n",
      "Saved 20250611094350_b6cd0de8a72c700e532486d783928c87_IMAG01_13.jpg successfully. (12,205) bytes\n"
     ]
    }
   ],
   "source": [
    "webtoon_title = '육아일기'\n",
    "title_id=812354\n",
    "url = f'https://comic.naver.com/webtoon/detail?titleId={str(title_id)}&'\n",
    "no = 152\n",
    "\n",
    "download_one_episode(webtoon_title,no,url)\n"
   ]
  },
  {
   "cell_type": "code",
   "execution_count": 15,
   "id": "c4bcb080",
   "metadata": {},
   "outputs": [
    {
     "name": "stdout",
     "output_type": "stream",
     "text": [
      "칼부림468\\20250702143804_4a98a5630270c3008c8150ab5598aafd_IMAG01_1.jpg\n",
      "Saved 20250702143804_4a98a5630270c3008c8150ab5598aafd_IMAG01_1.jpg successfully. (88,484) bytes\n",
      "칼부림468\\20250702143804_4a98a5630270c3008c8150ab5598aafd_IMAG01_2.jpg\n",
      "Saved 20250702143804_4a98a5630270c3008c8150ab5598aafd_IMAG01_2.jpg successfully. (228,911) bytes\n",
      "칼부림468\\20250702143804_4a98a5630270c3008c8150ab5598aafd_IMAG01_3.jpg\n",
      "Saved 20250702143804_4a98a5630270c3008c8150ab5598aafd_IMAG01_3.jpg successfully. (183,682) bytes\n",
      "칼부림468\\20250702143804_4a98a5630270c3008c8150ab5598aafd_IMAG01_4.jpg\n",
      "Saved 20250702143804_4a98a5630270c3008c8150ab5598aafd_IMAG01_4.jpg successfully. (193,698) bytes\n",
      "칼부림468\\20250702143804_4a98a5630270c3008c8150ab5598aafd_IMAG01_5.jpg\n",
      "Saved 20250702143804_4a98a5630270c3008c8150ab5598aafd_IMAG01_5.jpg successfully. (179,014) bytes\n",
      "칼부림468\\20250702143804_4a98a5630270c3008c8150ab5598aafd_IMAG01_6.jpg\n",
      "Saved 20250702143804_4a98a5630270c3008c8150ab5598aafd_IMAG01_6.jpg successfully. (242,073) bytes\n",
      "칼부림468\\20250702143804_4a98a5630270c3008c8150ab5598aafd_IMAG01_7.jpg\n",
      "Saved 20250702143804_4a98a5630270c3008c8150ab5598aafd_IMAG01_7.jpg successfully. (192,660) bytes\n",
      "칼부림468\\20250702143804_4a98a5630270c3008c8150ab5598aafd_IMAG01_8.jpg\n",
      "Saved 20250702143804_4a98a5630270c3008c8150ab5598aafd_IMAG01_8.jpg successfully. (208,249) bytes\n",
      "칼부림468\\20250702143804_4a98a5630270c3008c8150ab5598aafd_IMAG01_9.jpg\n",
      "Saved 20250702143804_4a98a5630270c3008c8150ab5598aafd_IMAG01_9.jpg successfully. (174,066) bytes\n",
      "칼부림468\\20250702143804_4a98a5630270c3008c8150ab5598aafd_IMAG01_10.jpg\n",
      "Saved 20250702143804_4a98a5630270c3008c8150ab5598aafd_IMAG01_10.jpg successfully. (150,413) bytes\n",
      "칼부림468\\20250702143804_4a98a5630270c3008c8150ab5598aafd_IMAG01_11.jpg\n",
      "Saved 20250702143804_4a98a5630270c3008c8150ab5598aafd_IMAG01_11.jpg successfully. (122,886) bytes\n",
      "칼부림468\\20250702143804_4a98a5630270c3008c8150ab5598aafd_IMAG01_12.jpg\n",
      "Saved 20250702143804_4a98a5630270c3008c8150ab5598aafd_IMAG01_12.jpg successfully. (223,140) bytes\n",
      "칼부림468\\20250702143804_4a98a5630270c3008c8150ab5598aafd_IMAG01_13.jpg\n",
      "Saved 20250702143804_4a98a5630270c3008c8150ab5598aafd_IMAG01_13.jpg successfully. (223,445) bytes\n",
      "칼부림468\\20250702143804_4a98a5630270c3008c8150ab5598aafd_IMAG01_14.jpg\n",
      "Saved 20250702143804_4a98a5630270c3008c8150ab5598aafd_IMAG01_14.jpg successfully. (258,287) bytes\n",
      "칼부림468\\20250702143804_4a98a5630270c3008c8150ab5598aafd_IMAG01_15.jpg\n",
      "Saved 20250702143804_4a98a5630270c3008c8150ab5598aafd_IMAG01_15.jpg successfully. (198,596) bytes\n",
      "칼부림468\\20250702143804_4a98a5630270c3008c8150ab5598aafd_IMAG01_16.jpg\n",
      "Saved 20250702143804_4a98a5630270c3008c8150ab5598aafd_IMAG01_16.jpg successfully. (252,146) bytes\n",
      "칼부림468\\20250702143804_4a98a5630270c3008c8150ab5598aafd_IMAG01_17.jpg\n",
      "Saved 20250702143804_4a98a5630270c3008c8150ab5598aafd_IMAG01_17.jpg successfully. (178,097) bytes\n",
      "칼부림468\\20250702143804_4a98a5630270c3008c8150ab5598aafd_IMAG01_18.jpg\n",
      "Saved 20250702143804_4a98a5630270c3008c8150ab5598aafd_IMAG01_18.jpg successfully. (198,311) bytes\n",
      "칼부림468\\20250702143804_4a98a5630270c3008c8150ab5598aafd_IMAG01_19.jpg\n",
      "Saved 20250702143804_4a98a5630270c3008c8150ab5598aafd_IMAG01_19.jpg successfully. (161,516) bytes\n",
      "칼부림468\\20250702143804_4a98a5630270c3008c8150ab5598aafd_IMAG01_20.jpg\n",
      "Saved 20250702143804_4a98a5630270c3008c8150ab5598aafd_IMAG01_20.jpg successfully. (305,344) bytes\n",
      "칼부림468\\20250702143804_4a98a5630270c3008c8150ab5598aafd_IMAG01_21.jpg\n",
      "Saved 20250702143804_4a98a5630270c3008c8150ab5598aafd_IMAG01_21.jpg successfully. (219,451) bytes\n",
      "칼부림468\\20250702143804_4a98a5630270c3008c8150ab5598aafd_IMAG01_22.jpg\n",
      "Saved 20250702143804_4a98a5630270c3008c8150ab5598aafd_IMAG01_22.jpg successfully. (274,040) bytes\n",
      "칼부림468\\20250702143804_4a98a5630270c3008c8150ab5598aafd_IMAG01_23.jpg\n",
      "Saved 20250702143804_4a98a5630270c3008c8150ab5598aafd_IMAG01_23.jpg successfully. (187,138) bytes\n",
      "칼부림468\\20250702143804_4a98a5630270c3008c8150ab5598aafd_IMAG01_24.jpg\n",
      "Saved 20250702143804_4a98a5630270c3008c8150ab5598aafd_IMAG01_24.jpg successfully. (979) bytes\n"
     ]
    }
   ],
   "source": [
    "\n",
    "\n",
    "webtoon_title = '칼부림'\n",
    "title_id=602916\n",
    "url = f'https://comic.naver.com/webtoon/detail?titleId={str(title_id)}&'\n",
    "no = 468\n",
    "\n",
    "download_one_episode(webtoon_title,no,url)"
   ]
  }
 ],
 "metadata": {
  "kernelspec": {
   "display_name": "base",
   "language": "python",
   "name": "python3"
  },
  "language_info": {
   "codemirror_mode": {
    "name": "ipython",
    "version": 3
   },
   "file_extension": ".py",
   "mimetype": "text/x-python",
   "name": "python",
   "nbconvert_exporter": "python",
   "pygments_lexer": "ipython3",
   "version": "3.13.5"
  }
 },
 "nbformat": 4,
 "nbformat_minor": 5
}
