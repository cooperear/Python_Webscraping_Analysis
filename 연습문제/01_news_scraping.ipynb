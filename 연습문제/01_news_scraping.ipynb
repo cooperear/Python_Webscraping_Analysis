{
 "cells": [
  {
   "cell_type": "code",
   "execution_count": 106,
   "id": "5f538520",
   "metadata": {},
   "outputs": [
    {
     "data": {
      "text/plain": [
       "'\\n#  SSS  K   K        SSS  H   H IIIII EEEEE L     DDDD  EEEEE RRRR   SSS        4   4 TTTTT H   H       RRRR   OOO   OOO  K   K IIIII EEEEE  SSS  \\n# S     K  K        S     H   H   I   E     L     D   D E     R   R S           4   4   T   H   H       R   R O   O O   O K  K    I   E     S     \\n#  SSS  KKK          SSS  HHHHH   I   EEEEE L     D   D EEEEE RRRR   SSS        44444   T   HHHHH       RRRR  O   O O   O KKK     I   EEEEE  SSS  \\n#     S K  K            S H   H   I   E     L     D   D E     R  R      S           4   T   H   H       R  R  O   O O   O K  K    I   E         S \\n# SSSS  K   K       SSSS  H   H IIIII EEEEE LLLLL DDDD  EEEEE R   R SSSS            4   T   H   H       R   R  OOO   OOO  K   K IIIII EEEEE SSSS  \\n\\n박시훈\\n'"
      ]
     },
     "execution_count": 106,
     "metadata": {},
     "output_type": "execute_result"
    }
   ],
   "source": [
    "\n",
    "\"\"\"\n",
    "#  SSS  K   K        SSS  H   H IIIII EEEEE L     DDDD  EEEEE RRRR   SSS        4   4 TTTTT H   H       RRRR   OOO   OOO  K   K IIIII EEEEE  SSS  \n",
    "# S     K  K        S     H   H   I   E     L     D   D E     R   R S           4   4   T   H   H       R   R O   O O   O K  K    I   E     S     \n",
    "#  SSS  KKK          SSS  HHHHH   I   EEEEE L     D   D EEEEE RRRR   SSS        44444   T   HHHHH       RRRR  O   O O   O KKK     I   EEEEE  SSS  \n",
    "#     S K  K            S H   H   I   E     L     D   D E     R  R      S           4   T   H   H       R  R  O   O O   O K  K    I   E         S \n",
    "# SSSS  K   K       SSSS  H   H IIIII EEEEE LLLLL DDDD  EEEEE R   R SSSS            4   T   H   H       R   R  OOO   OOO  K   K IIIII EEEEE SSSS  \n",
    "\n",
    "박시훈\n",
    "\"\"\""
   ]
  },
  {
   "cell_type": "markdown",
   "id": "361b013a",
   "metadata": {},
   "source": [
    "# 질문 1: 아래의 url에서 뉴스기사의 링크와 제목을 출력하세요.\n",
    "    # 다음 경제 뉴스 URL\n",
    "    url = 'https://news.daum.net/economy'\n",
    "\n"
   ]
  },
  {
   "cell_type": "code",
   "execution_count": 107,
   "id": "d9820c4e",
   "metadata": {},
   "outputs": [
    {
     "name": "stdout",
     "output_type": "stream",
     "text": [
      "Name: beautifulsoup4\n",
      "Version: 4.12.3\n",
      "Summary: Screen-scraping library\n",
      "Home-page: https://www.crummy.com/software/BeautifulSoup/bs4/\n",
      "Author: \n",
      "Author-email: Leonard Richardson <leonardr@segfault.org>\n",
      "License: MIT License\n",
      "Location: C:\\Users\\winds\\anaconda3\\Lib\\site-packages\n",
      "Requires: soupsieve\n",
      "Required-by: conda-build, nbconvert\n"
     ]
    }
   ],
   "source": [
    "!pip show beautifulsoup4\n",
    "#!pip show requests "
   ]
  },
  {
   "cell_type": "code",
   "execution_count": 108,
   "id": "ff118141",
   "metadata": {},
   "outputs": [],
   "source": [
    "# reqeusts, bs4 import\n",
    "import requests  # requests 라이브러리 import\n",
    "import bs4  # BeautifulSoup 라이브러리 import\n",
    "\n",
    "# BeautifulSoup 클래스 import\n",
    "from bs4 import BeautifulSoup  # BeautifulSoup 클래스 import"
   ]
  },
  {
   "cell_type": "code",
   "execution_count": 109,
   "id": "b4a31be1",
   "metadata": {},
   "outputs": [
    {
     "name": "stdout",
     "output_type": "stream",
     "text": [
      "https://news.daum.net/economy\n",
      "<class 'requests.models.Response'>\n",
      "200\n",
      "https://v.daum.net/v/20250722190900992 경제통상 외교수장들, 대거 미국행... 관세 타결·한미정상회담 열릴까\n",
      "https://v.daum.net/v/20250722185103483 퇴근하면 시작된다...유통업계 다시 불붙은 '6시 쇼핑' 전쟁\n",
      "https://v.daum.net/v/20250722183143976 “자율주행, 이동약자 지원하는 ‘공공성’에 초점 맞춰야”\n",
      "https://v.daum.net/v/20250722181057244 꾸준히 강세 흐름 보이는 메이저 알트코인들 : 코리안 크립토 위클리 [INFCL 리서치]\n",
      "https://v.daum.net/v/20250722175548581 세계시장 제패한 K뷰티·푸드…'첨단' 아니라며 R&D지원은 쥐꼬리\n",
      "https://v.daum.net/v/20250722174746199 예금자보호 1억 시대…내 돈 어디에 맡길까?\n",
      "https://v.daum.net/v/20250722174241984 전재수 해수 후보자 조선업 '신경전'에 김정관 산업장관 '신중론'\n",
      "https://v.daum.net/v/20250722171546881 재료비·배달에 무릎꿇은 '한국인의 밥상'…백반집이 사라진다\n",
      "https://v.daum.net/v/20250722171502827 “흑자 전환 노린다” 국내외 의료 AI, 실적 경쟁 치열\n",
      "https://v.daum.net/v/20250722194007862 헛도는 ‘부산 세컨드허브 공항’ 김해, ‘청주공항’보다 못하다\n",
      "https://v.daum.net/v/20250722193349689 [주요 단신] 소비쿠폰 첫날 제주 6만여 건 신청 외\n",
      "https://v.daum.net/v/20250722193113609 오락가락 여름 날씨에… 유통가는 '몰캉스' 대전\n",
      "https://v.daum.net/v/20250722193103601 온라인소비 확산으로 경기도 경제 견인… 지역 격차는 심화\n",
      "https://v.daum.net/v/20250722193204631 \"내가 암? 안 믿겨\" 암환자 10명 중 8명, 첫 진단 후 다른 병원 갔다\n",
      "https://v.daum.net/v/20250722191726252 美 관세충격에 스텔란티스도 3조 손실…짙어지는 車수출 먹구름\n",
      "https://v.daum.net/v/20250722191440160 [기획] 중국 석유화학 또 증설… '극한생존' 내몰린 韓 기업들\n",
      "https://v.daum.net/v/20250722190103762 수출부터 팝업스토어까지…노태그코리아의 K패션 동남아 진출 공식\n",
      "https://v.daum.net/v/20250722190900991 “진짜 초보도 수익 볼 수 있나요”…ETF 1000개 시대, 테마 광풍 속 생존법은?\n",
      "https://v.daum.net/v/20250722184730392 금투세 폐지에 증권거래세 ‘원복’… ‘붕 뜬’ 가상자산세 어쩌나\n",
      "https://v.daum.net/v/20250722182727841 美증시에 '코리아 ETF' 열풍… 석달새 2조 몰렸다\n",
      "https://v.daum.net/v/20250722180147836 거래대금 절반 잠식한 NXT…거래소, '12시간 거래' 추진한다\n",
      "https://v.daum.net/v/20250722190715958 “전 행원 ‘애널리스트화’, 리스크관리 문화 만들 것”\n",
      "https://v.daum.net/v/20250722184908430 한국 독자 AI 모델 경쟁 본격화…누가 누가 짝 맺었나\n",
      "https://v.daum.net/v/20250722184726389 '골프 꿈나무' 보듬는 우리금융\n",
      "https://v.daum.net/v/20250722184456335 집중호우 침수피해 차량 4000대 육박…손해액 364억원\n",
      "https://v.daum.net/v/20250722182950925 김지만 대구시의원 \"집값 양극화 가속화, 지방 규제 풀고 권한 줘야\"\n",
      "https://v.daum.net/v/20250722182239656 VR로 미리 본 '하이엔드 써밋라이프' 큰 호응\n",
      "https://v.daum.net/v/20250722181913530 2.6조 압구정3구역, 땅 주인을 찾아라\n",
      "https://v.daum.net/v/20250722174315018 하반기 정비사업 '큰 장'에 건설사 '수싸움' 치열\n",
      "https://v.daum.net/v/20250722193600756 “국내에선 1원어치도 못 사는데”…올해 들어서만 27조원 몰린 비트코인 ETF\n",
      "https://v.daum.net/v/20250722184730392 금투세 폐지에 증권거래세 ‘원복’… ‘붕 뜬’ 가상자산세 어쩌나\n",
      "https://v.daum.net/v/20250722180005765 불장 맞은 알트코인… 솔라나까지 급등\n",
      "https://v.daum.net/v/20250722150153076 가상자산 강세에도 ‘역 김치프리미엄’은 장기화, 왜? [투자360]\n",
      "https://v.daum.net/v/20250722164043350 [머니줌인] 퇴직연금 '저조한 수익률' 해결…제도 개선 추진\n",
      "https://v.daum.net/v/20250722152215012 스마트경로당 운영 위한 노인일자리 참여자 직무역량 강화\n",
      "https://v.daum.net/v/20250722114004239 ‘퇴직연금 이전 사전조회’ 시작… 머니무브 가속 전망\n",
      "https://v.daum.net/v/20250722110302889 한때 잘나가던 영국이 어쩌다…연금개혁 실패 후 벌어진 일 [강진규의 데이터너머]\n",
      "https://v.daum.net/v/20250722175356487 2050년 경남 50대 비중 69%...중장년 일자리 개선 과제로\n",
      "https://v.daum.net/v/20250722165348894 청년에게 더 좁아진 취업문… 중견기업 56% \"하반기 채용 계획 없다\" [아카이브]\n",
      "https://v.daum.net/v/20250722084656389 \"채용 핵심은 실제 성과 만드는 '성과역량' 선발하는 것”\n",
      "https://v.daum.net/v/20250721184208302 “이러다 정규직 사라질 판”…직원 채용 안 하고 잠깐 ‘빌려쓴다’\n",
      "https://v.daum.net/v/20250722194703018 \"거품이 경쟁력\"⋯산토리 맥주의 '집념' [현장]\n",
      "https://v.daum.net/v/20250722181727475 '객단가 급감' 시내면세점, 지역 관광코스 짜고 식품존 늘린다[현장르포]\n",
      "https://v.daum.net/v/20250722173948875 백화점 '부진의 늪' 탈출하나…매출 개선 뚜렷\n",
      "https://v.daum.net/v/20250722172527263 '축구장 3만4000개' 농지 잠겼다..식탁 물가 더오른다\n",
      "https://v.daum.net/v/20250722192704538 “유망 스타트업 오세요” 제주창조경제혁신센터, 하반기 투자기업 모집 [fn마켓워치]\n",
      "https://v.daum.net/v/20250722174055910 스윗밸런스, '2025 농식품 테크 스타트업 창업 박람회'서 HMR 제품 전시해 호응\n",
      "https://v.daum.net/v/20250722172903366 韓 유망 스포츠 스타트업 한자리에…“투자부터 유통, 마케팅까지 논의”\n",
      "https://v.daum.net/v/20250722171859999 골리앗 이길 'AI 짱돌' 찾는 네카오…\"韓 넘어 글로벌 시장 훑는다\" [긱스]\n",
      "https://v.daum.net/v/20250722190946024 \"중국산 환적 전체 규제할 경우 美수입 대부분 영향\"\n",
      "https://v.daum.net/v/20250722180655079 AI 거품 키우는 트럼프 정책, 기술주만 오르는 듯…버블은 언제 터질까[오미주]\n",
      "https://v.daum.net/v/20250722180314916 쌀·소고기 대신 '통큰 석유수입' … 美에 100억弗 보따리 푼다\n",
      "https://v.daum.net/v/20250722180312913 \"印尼도 5번 수정안 들고와\" 최대한 받아내겠다는 미국\n",
      "https://v.daum.net/v/20250722180307903 현대차 수소전기버스 질주 … 점유율 20%로\n",
      "https://v.daum.net/v/20250722155614644 한국GM 철수시 경남 등 지역경제 치명타…정부 협상에 달렸다\n",
      "https://v.daum.net/v/20250722133142228 [인터뷰] LSTA 출전, 슈퍼 다이큐 시리즈 그리고 ‘슈퍼레이스’ - 람보르기니 분당 바이 레이스그래프 이정우\n",
      "https://v.daum.net/v/20250722122747888 포르쉐코리아, 집중호우 피해 지원금 1억5천만원 기부\n",
      "https://v.daum.net/v/20250722194705020 단통법 폐지에…공짜폰 넘어 ‘마이너스폰’ 등장\n",
      "https://v.daum.net/v/20250722194554990 1조 2천억 풀렸다…소비쿠폰 유치 총력전\n",
      "https://v.daum.net/v/20250722194544985 벤츠 최고급 S580 3년 만에 서스펜스 폭삭…수리비 800만 원 화냈더니 '공짜', 손님이 호구?\n",
      "https://v.daum.net/v/20250722194347937 李 대통령, 카타르 국왕과 첫 통화…“AI 등 다양한 분야 협력”\n",
      "https://v.daum.net/v/20250722194302920 한화에어로-항우연 '누리호 기술이전' 협상 타결 초읽기\n",
      "https://v.daum.net/v/20250722194039866 부산신보, 보증잔액 첫 3조 돌파…비수도권 신보 중 최고\n",
      "https://v.daum.net/v/20250722194032865 한국은행 광주전남본부  “폭우 수해로 훼손된 지폐 교환하세요”\n",
      "https://v.daum.net/v/20250722194007862 헛도는 ‘부산 세컨드허브 공항’ 김해, ‘청주공항’보다 못하다\n",
      "https://v.daum.net/v/20250722193903830 강기정 “2호선 도로 개방 12월까지 못하면 사퇴”\n",
      "https://v.daum.net/v/20250722193903829 BS그룹, 한전 마장동 물류센터 부지 우선협상대상자로 선정\n",
      "https://v.daum.net/v/20250722192831557 트럼프는 왜 탈중앙화된 통화를 원하나 : 스테이블코인의 본질\n",
      "https://v.daum.net/v/20250722191033041 강선우 보고서 재송부 요청...이번 주 내 임명할 듯\n",
      "https://v.daum.net/v/20250722183541061 李대통령 \"민생쿠폰은 소비회복, 추가 프로그램 준비\"…소비쿠폰 '깡' 주의(종합)\n",
      "https://v.daum.net/v/20250722183126964 ‘강선우 강행’ 직접 설명 없는 이 대통령···길어지는 침묵, 왜?\n",
      "https://v.daum.net/v/20250722182503746 소비쿠폰 첫날에만 1조2700억 지급.. 식당·미용실 등 \"손님 늘것\" 기대감\n",
      "https://v.daum.net/v/20250722191751264 소비쿠폰으로 소고기? 생필품?…현장 가보니\n",
      "https://v.daum.net/v/20250722190141778 단통법 폐지 첫날, 소비자도 '성지'도 고요했다 [르포]\n",
      "https://v.daum.net/v/20250722183952158 물난리에 잇속 챙긴 천안시의장·폭염 보도 독자 관심 이끌어\n",
      "https://v.daum.net/v/20250722181931537 \"여름특수 날렸어요\"… 울산 단수 장기화에 상인들 '한숨'[현장르포]\n",
      "https://v.daum.net/v/20250722181859520 출고가 164만원 플립7이 9만원…단통법 폐지 첫날 '성지' 가보니 [팩플]\n",
      "https://v.daum.net/v/20250722181825504 소비처 확대, 민생회복 소비쿠폰 현장… ‘우려 반 기대 반’ [현장, 그곳&]\n",
      "https://v.daum.net/v/20250722181727475 '객단가 급감' 시내면세점, 지역 관광코스 짜고 식품존 늘린다[현장르포]\n",
      "https://v.daum.net/v/20250722180804119 한화 '미사일 시스템 국산화' 도전…\"사드·패트리엇 대신 韓 지킬 것\"\n"
     ]
    }
   ],
   "source": [
    "def print_title_from_daum_news():\n",
    "    req_param = {\n",
    "        'sid':\"economy\"\n",
    "    }\n",
    "    url = 'https://news.daum.net/{sid}'.format(**req_param)\n",
    "    title_text = []\n",
    "    print(url)\n",
    "    req_header = {\n",
    "        'User-Agent': 'Mozilla/5.0 (Windows NT 10.0; Win64; x64) AppleWebKit/537.36 (KHTML, like Gecko) Chrome/58.0.3029.110 Safari/537.3'\n",
    "    }\n",
    "    res = requests.get(url = url,headers = req_header)\n",
    "    print(type(res))\n",
    "    \n",
    "    if res.ok:\n",
    "        print(res.status_code) \n",
    "        res.encoding = res.apparent_encoding\n",
    "        html = res.content.decode('utf-8')\n",
    "        soup = BeautifulSoup(html,'html.parser')\n",
    "        tags = soup.select(\"li a[href*='v.daum.net/v']\")\n",
    "        \n",
    "        for t in tags:\n",
    "            link = t['href'] if 'href' in t.attrs else 'no link'\n",
    "            title_tag = t.select_one('div.cont_thumb strong.tit_txt')\n",
    "            title = title_tag.getText(strip = True)\n",
    "\n",
    "            print(f\"{link} {title}\")\n",
    "        \n",
    "\n",
    "#\\30 e289a02-ba69-440a-8a28-2b0479c64993 > ul > li:nth-child(1) > a > div.cont_thumb > strong\n",
    "\n",
    "    else:\n",
    "        raise(\"정상작동하지 않음\")\n",
    "\n",
    "    pass\n",
    "\n",
    "################\n",
    "print_title_from_daum_news()"
   ]
  },
  {
   "cell_type": "markdown",
   "id": "0e9a6894",
   "metadata": {},
   "source": [
    "# 질문2:  여러개의 section 중 하나를 선택해서 url에서 뉴스기사의 링크와 제목을 출력하는 코드를 함수로 작성하기\n"
   ]
  },
  {
   "cell_type": "code",
   "execution_count": 110,
   "id": "dfd3dabd",
   "metadata": {},
   "outputs": [],
   "source": [
    "# reqeusts, bs4 import\n",
    "import requests  # requests 라이브러리 import\n",
    "import bs4  # BeautifulSoup 라이브러리 import\n",
    "\n",
    "# BeautifulSoup 클래스 import\n",
    "from bs4 import BeautifulSoup  # BeautifulSoup 클래스 import"
   ]
  },
  {
   "cell_type": "code",
   "execution_count": 111,
   "id": "639575e5",
   "metadata": {},
   "outputs": [],
   "source": [
    "section_dict = {'기후/환경':'climate','사회':'society','경제':'economy','정치':'politics',\\\n",
    "             '국제':'world','문화':'culture','생활':'life','IT/과학':'tech','인물':'people'}\n",
    "\n"
   ]
  },
  {
   "cell_type": "code",
   "execution_count": null,
   "id": "0f601a17",
   "metadata": {},
   "outputs": [
    {
     "name": "stdout",
     "output_type": "stream",
     "text": [
      " ======>https://news.daum.net/life 생활 뉴스 <======\n",
      "200\n"
     ]
    }
   ],
   "source": [
    "def print_news(section_name):\n",
    "    \n",
    "    req_param = {\n",
    "        'sid': section_dict[section_name]\n",
    "    }\n",
    "    url = 'https://news.daum.net/{sid}'.format(**req_param)\n",
    "    title_text = []\n",
    "    print(f\" ======>{url} {section_name} 뉴스 <======\")\n",
    "    req_header = {\n",
    "        'User-Agent': 'Mozilla/5.0 (Windows NT 10.0; Win64; x64) AppleWebKit/537.36 (KHTML, like Gecko) Chrome/58.0.3029.110 Safari/537.3'\n",
    "    }\n",
    "    res = requests.get(url = url,headers = req_header)\n",
    "    #print(type(res))\n",
    "    \n",
    "    if res.ok:\n",
    "        print(res.status_code) \n",
    "        res.encoding = res.apparent_encoding\n",
    "        html = res.content.decode('utf-8')\n",
    "        soup = BeautifulSoup(html,'html.parser')\n",
    "        tags = soup.select(\"li a[href*='v.daum.net/v']\")\n",
    "        \n",
    "        for t in tags:\n",
    "            link = t['href'] if 'href' in t.attrs else 'no link'\n",
    "            title_tag = t.select_one('div.cont_thumb strong.tit_txt')\n",
    "            title = title_tag.getText(strip = True)\n",
    "\n",
    "            print(f\"{link} {title}\")\n",
    "\n",
    "print_news('생활')"
   ]
  }
 ],
 "metadata": {
  "kernelspec": {
   "display_name": "base",
   "language": "python",
   "name": "python3"
  },
  "language_info": {
   "codemirror_mode": {
    "name": "ipython",
    "version": 3
   },
   "file_extension": ".py",
   "mimetype": "text/x-python",
   "name": "python",
   "nbconvert_exporter": "python",
   "pygments_lexer": "ipython3",
   "version": "3.13.5"
  }
 },
 "nbformat": 4,
 "nbformat_minor": 5
}
